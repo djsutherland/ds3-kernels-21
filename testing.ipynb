{
 "cells": [
  {
   "cell_type": "markdown",
   "metadata": {},
   "source": [
    "$\n",
    "\\DeclareMathOperator{\\E}{\\mathbb E}\n",
    "\\DeclareMathOperator{\\Var}{Var}\n",
    "\\DeclareMathOperator{\\Tr}{Tr}\n",
    "\\DeclareMathOperator{\\MMD}{MMD}\n",
    "\\DeclareMathOperator{\\MMDhat}{\\widehat{MMD}}\n",
    "\\newcommand{\\PP}{\\mathbb{P}}\n",
    "\\newcommand{\\QQ}{\\mathbb{Q}}\n",
    "\\newcommand{\\h}{\\mathcal H}\n",
    "$This is the second part of the practical components of the tutorial, on two-sample testing.\n",
    "\n",
    "It doesn't overlap too much with [the ridge regression section](ridge.ipynb), but we're going to assume you've done (at least the first parts of) that one first.\n",
    "\n",
    "This section is an updated version of (most of) [Heiko Strathmann](http://herrstrathmann.de/)'s [materials](https://github.com/karlnapf/ds3_kernel_testing) for a DS3 2018 tutorial.\n",
    "\n",
    "Again, we'll use PyTorch; you might want a GPU for some optional bits at the end, but CPU on a laptop should be fine until then."
   ]
  },
  {
   "cell_type": "code",
   "execution_count": null,
   "metadata": {
    "execution": {
     "iopub.execute_input": "2021-01-05T10:18:06.466624Z",
     "iopub.status.busy": "2021-01-05T10:18:06.461925Z",
     "iopub.status.idle": "2021-01-05T10:18:07.165952Z",
     "shell.execute_reply": "2021-01-05T10:18:07.166220Z"
    }
   },
   "outputs": [],
   "source": [
    "import os\n",
    "try:\n",
    "    import google.colab\n",
    "except ImportError:\n",
    "    pass\n",
    "else:\n",
    "    if not os.path.exists('data/blobs.npz'):\n",
    "        !git clone https://github.com/djsutherland/ds3-kernels\n",
    "        os.chdir('ds3-kernels')\n",
    "\n",
    "%matplotlib inline\n",
    "import matplotlib as mpl\n",
    "import matplotlib.pyplot as plt\n",
    "import seaborn as sns\n",
    "sns.set_theme(context='notebook')\n",
    "from IPython.display import display, Markdown, HTML\n",
    "\n",
    "from tqdm.notebook import tqdm\n",
    "# from tqdm import tqdm  # if you're in JupyterLab/etc and this doesn't work well\n",
    "\n",
    "import functools\n",
    "\n",
    "import numpy as np\n",
    "import sklearn\n",
    "from sklearn import model_selection\n",
    "import torch\n",
    "\n",
    "import ds3_support\n",
    "from ds3_support import as_tensors, LazyKernel, pil_grid"
   ]
  },
  {
   "cell_type": "markdown",
   "metadata": {},
   "source": [
    "## A note\n",
    "\n",
    "Please ask me for help if you get stuck! Whether it's with a PyTorch thing, some other code thing, or especially something conceptual \u2013\u00a0that's what I'm here for. Solutions are also available in [`solutions-testing.ipynb`](solutions-testing.ipynb), but you're better off not rushing straight to those; I'm happy to help you try to help you work things out yourself, which is probably better for you. :)"
   ]
  },
  {
   "cell_type": "markdown",
   "metadata": {},
   "source": [
    "## Starting out with two-sample testing"
   ]
  },
  {
   "cell_type": "code",
   "execution_count": null,
   "metadata": {
    "execution": {
     "iopub.execute_input": "2021-01-05T10:18:07.175036Z",
     "iopub.status.busy": "2021-01-05T10:18:07.174748Z",
     "iopub.status.idle": "2021-01-05T10:18:07.294902Z",
     "shell.execute_reply": "2021-01-05T10:18:07.295137Z"
    }
   },
   "outputs": [],
   "source": [
    "with np.load('data/simple.npz') as data:\n",
    "    X, Y = as_tensors(data['X'], data['Y'])\n",
    "    \n",
    "plt.hist(X.numpy(), alpha=.5, bins='auto', histtype='stepfilled')\n",
    "plt.hist(Y.numpy(), alpha=.5, bins='auto', histtype='stepfilled');"
   ]
  },
  {
   "cell_type": "markdown",
   "metadata": {},
   "source": [
    "Question: do $X$ and $Y$ come from the same distribution?"
   ]
  },
  {
   "cell_type": "markdown",
   "metadata": {},
   "source": [
    "## Comparing means"
   ]
  },
  {
   "cell_type": "markdown",
   "metadata": {},
   "source": [
    "Let's start by comparing the means of the samples.\n",
    "If the distributions are the same, their means are the same,\n",
    "so the expectation of this statistic would be zero."
   ]
  },
  {
   "cell_type": "code",
   "execution_count": null,
   "metadata": {
    "execution": {
     "iopub.execute_input": "2021-01-05T10:18:07.298029Z",
     "iopub.status.busy": "2021-01-05T10:18:07.297741Z",
     "iopub.status.idle": "2021-01-05T10:18:07.300691Z",
     "shell.execute_reply": "2021-01-05T10:18:07.300918Z"
    }
   },
   "outputs": [],
   "source": [
    "def mean_difference(X, Y, squared=False):\n",
    "    X, Y = as_tensors(X, Y)\n",
    "    assert len(X.shape) == len(Y.shape) == 1\n",
    "    \n",
    "    # TODO: compute mean difference of X and Y\n",
    "    \n",
    "    return (result * result) if squared else result\n",
    "\n",
    "mean_difference(X, Y).item()"
   ]
  },
  {
   "cell_type": "markdown",
   "metadata": {},
   "source": [
    "Well, it's not zero...but of course we were never going to get *exactly* zero.\n",
    "\n",
    "Where do we draw the line?\n",
    "\n",
    "The classical statistical way to do this is to assume that $P_X = P_Y$ (the null hypothesis), and consider what the distribution of the test statistic would be in that case (the null distribution). If the number we observe would be very unlikely under the null distribution, then we \"reject the null\" and say that the two samples are different.\n",
    "\n",
    "One way to do this is called _permutation testing_. This is based on the observation that if $P_X = P_Y$, then we can shuffle the samples together, and that won't change the distribution of our shuffled $X'$ or $Y'$ (under the null). We can then compute what our test statistic would be if we did this a bunch of times, and this will give us an estimate of what the true null distribution is. If we do a lot of permutation samples, and our test statistic landed above, say, 99% of them, then we can reject the null hypothesis."
   ]
  },
  {
   "cell_type": "code",
   "execution_count": null,
   "metadata": {
    "execution": {
     "iopub.execute_input": "2021-01-05T10:18:07.304698Z",
     "iopub.status.busy": "2021-01-05T10:18:07.304368Z",
     "iopub.status.idle": "2021-01-05T10:18:07.306460Z",
     "shell.execute_reply": "2021-01-05T10:18:07.306107Z"
    },
    "scrolled": true
   },
   "outputs": [],
   "source": [
    "def two_sample_permutation_test(\n",
    "    test_statistic, X, Y, num_permutations=1000, progress=True\n",
    "):\n",
    "    X, Y = as_tensors(X, Y)\n",
    "    assert len(X.shape) == len(Y.shape)\n",
    "    \n",
    "    orig_stat = test_statistic(X, Y)\n",
    "    \n",
    "    range_ = range(num_permutations)\n",
    "    if progress:\n",
    "        range_ = tqdm(range_)\n",
    "    \n",
    "    # concatenate samples together\n",
    "    Z = torch.cat([X, Y], 0)\n",
    "    \n",
    "    stats = []\n",
    "    for i in range_:\n",
    "        # TODO: permute samples and compute test statistic\n",
    "        stats.append(this_stat)\n",
    "    return orig_stat, torch.stack(stats)"
   ]
  },
  {
   "cell_type": "code",
   "execution_count": null,
   "metadata": {
    "execution": {
     "iopub.execute_input": "2021-01-05T10:18:07.343776Z",
     "iopub.status.busy": "2021-01-05T10:18:07.341840Z",
     "iopub.status.idle": "2021-01-05T10:18:07.346024Z",
     "shell.execute_reply": "2021-01-05T10:18:07.345726Z"
    }
   },
   "outputs": [],
   "source": [
    "def plot_permutation_samples(statistic, null_samples, ax=None,\n",
    "                             from_zero=False, one_sided=False, alpha=1,\n",
    "                             level=.05):    \n",
    "    null_samples = np.asarray(null_samples)\n",
    "    if ax is None:\n",
    "        ax = plt.gca()\n",
    "    \n",
    "    ax.hist(null_samples, bins='auto', histtype='stepfilled',\n",
    "            label=\"Permutation samples\", alpha=alpha)\n",
    "    \n",
    "    if from_zero:\n",
    "        lo = 0\n",
    "        hi = np.percentile(null_samples, 100 * (1 - level))\n",
    "    elif one_sided:\n",
    "        lo = np.min(null_samples)\n",
    "        # should be -inf, but that takes more code\n",
    "        hi = np.percentile(null_samples, 100 * (1 - level))\n",
    "    else:\n",
    "        lo = np.percentile(null_samples, 100 * level / 2)\n",
    "        hi = np.percentile(null_samples, 100 * (1 - level / 2))\n",
    "    \n",
    "    ax.axvspan(lo, hi, fc='b', alpha=.25, label=\"95% region\")\n",
    "    \n",
    "    ax.axvline(x=statistic, c='r', lw=2, label=\"Actual statistic\")\n",
    "    ax.legend(loc='best')\n",
    "    \n",
    "    ax.set_xlabel(\"Test statistic value\")\n",
    "    ax.set_ylabel(\"Counts\")\n",
    "    \n",
    "    if from_zero:\n",
    "        ax.set_xlim(0, ax.get_xlim()[1])"
   ]
  },
  {
   "cell_type": "code",
   "execution_count": null,
   "metadata": {
    "execution": {
     "iopub.execute_input": "2021-01-05T10:18:07.347982Z",
     "iopub.status.busy": "2021-01-05T10:18:07.347694Z",
     "iopub.status.idle": "2021-01-05T10:18:07.542757Z",
     "shell.execute_reply": "2021-01-05T10:18:07.542446Z"
    }
   },
   "outputs": [],
   "source": [
    "plot_permutation_samples(\n",
    "    *two_sample_permutation_test(mean_difference, X, Y))"
   ]
  },
  {
   "cell_type": "markdown",
   "metadata": {},
   "source": [
    "Depending on the test statistic, there might be many other ways to compute the null distribution.\n",
    "Not all of them work via sampling it directly like this \u2013 which can be pretty expensive, e.g. 500 times as expensive as the test in the first place....\n",
    "\n",
    "For example, for our mean difference test statistic, if we assume that $X$ and $Y$ are each Gaussian, the distribution of the statistic is also Gaussian \u2013\u00a0as we can see, at least roughly, in this plot. \n",
    "We might be even able to analytically work out the parameters of this distribution.\n",
    "\n",
    "If you haven't realized, this is basically a [t-test](https://en.wikipedia.org/wiki/Student%27s_t-test), where we assume that we know that both distributions have the same variance so we can distinguish them via solely looking at their mean. (In this particular case, that's true....)\n",
    "\n",
    "As it will be useful for kernel based test statistics later, we will also look at the distribution of a squared test statistic, in order to make it strictly positive, but still tend to zero if the two distributions are the same.\n",
    "Naturally, the average of squared Gaussian random variables has a chi-square distribution -- something that can be used for the kernel tests that we introduce later."
   ]
  },
  {
   "cell_type": "code",
   "execution_count": null,
   "metadata": {
    "execution": {
     "iopub.execute_input": "2021-01-05T10:18:07.545156Z",
     "iopub.status.busy": "2021-01-05T10:18:07.544856Z",
     "iopub.status.idle": "2021-01-05T10:18:07.776623Z",
     "shell.execute_reply": "2021-01-05T10:18:07.776923Z"
    }
   },
   "outputs": [],
   "source": [
    "squared_mean_diff = functools.partial(mean_difference, squared=True)\n",
    "\n",
    "plot_permutation_samples(\n",
    "    *two_sample_permutation_test(squared_mean_diff, X, Y),\n",
    "    from_zero=True)"
   ]
  },
  {
   "cell_type": "markdown",
   "metadata": {},
   "source": [
    "### Alternative distribution via explicit simulation\n",
    "\n",
    "The test statistic also has a distribution under the alternative hypothesis ($P_X \\neq P_Y$); our computed test statistic is only a single sample from this distribution.\n",
    "\n",
    "Unfortunately, it's not easy to look at this alternative distribution in practice,\n",
    "unless we have a way to generate more data.\n",
    "But let's take a look in a synthetic case where we know the true distribution."
   ]
  },
  {
   "cell_type": "code",
   "execution_count": null,
   "metadata": {
    "execution": {
     "iopub.execute_input": "2021-01-05T10:18:07.780553Z",
     "iopub.status.busy": "2021-01-05T10:18:07.780268Z",
     "iopub.status.idle": "2021-01-05T10:18:07.988719Z",
     "shell.execute_reply": "2021-01-05T10:18:07.988952Z"
    }
   },
   "outputs": [],
   "source": [
    "np.random.seed(3); torch.manual_seed(0)\n",
    "\n",
    "# This is a case when the null hypothesis is false:\n",
    "N = 200\n",
    "sample_X = lambda: torch.randn(N)\n",
    "sample_Y = lambda: torch.randn(N) + 0.3\n",
    "\n",
    "# Do the normal testing thing, where we have one sample from each.\n",
    "X = sample_X()\n",
    "Y = sample_Y()\n",
    "\n",
    "# single sample from the alternative + null estimates\n",
    "stat, perm_samples = two_sample_permutation_test(squared_mean_diff, X, Y, num_permutations=500)\n",
    "\n",
    "statistics_alt = np.zeros(500)\n",
    "# TODO: fill statistics_alt with samples from the alternative distribution\n",
    "\n",
    "fig, ax = plt.subplots(figsize=(12, 4))\n",
    "plot_permutation_samples(stat, perm_samples, ax=ax, from_zero=True, alpha=.5)\n",
    "ax.hist(statistics_alt, alpha=0.5, bins='auto',\n",
    "        label='Alternative samples', histtype='stepfilled');\n"
   ]
  },
  {
   "cell_type": "markdown",
   "metadata": {},
   "source": [
    "As you can see, even though most of the alternative distribution far larger than the null, we can be unlucky: there are a significant portion of datasets for which the test would not reject the null simply by chance -- we only have a single draw from the alternative.\n",
    "With this fixed seed, we got lucky, but a decent portion of the time we wouldn't reject the null, even though it's not true.\n",
    "\n",
    "**Optional:** Play with the sample size, or the amount of difference between $X$ and $Y$, and see how this impacts the position of the alternative distribution (and as such the test power)."
   ]
  },
  {
   "cell_type": "markdown",
   "metadata": {},
   "source": [
    "**Optional:** Actually generate more data from the null distribution, also. How well does the permutation distribution approximate the true null? How does this change with smaller / larger `N`?"
   ]
  },
  {
   "cell_type": "markdown",
   "metadata": {},
   "source": [
    "### Another dataset"
   ]
  },
  {
   "cell_type": "code",
   "execution_count": null,
   "metadata": {
    "execution": {
     "iopub.execute_input": "2021-01-05T10:18:08.003968Z",
     "iopub.status.busy": "2021-01-05T10:18:08.003251Z",
     "iopub.status.idle": "2021-01-05T10:18:08.116832Z",
     "shell.execute_reply": "2021-01-05T10:18:08.116509Z"
    }
   },
   "outputs": [],
   "source": [
    "with np.load('data/almost_simple.npz') as d:\n",
    "    X, Y = as_tensors(d['X'], d['Y'])\n",
    "\n",
    "plt.hist(X.numpy(), alpha=.5, bins='auto', histtype='stepfilled')\n",
    "plt.hist(Y.numpy(), alpha=.5, bins='auto', histtype='stepfilled');"
   ]
  },
  {
   "cell_type": "markdown",
   "metadata": {},
   "source": [
    "Looks like the mean won't cut it this time. Maybe the standard deviation?\n",
    "\n",
    "**Exercise:** Implement a two-sample test statistic based on both the mean and the standard deviation, e.g. $(\\mu_X - \\mu_Y)^2 + (\\sigma_X - \\sigma_Y)^2$."
   ]
  },
  {
   "cell_type": "code",
   "execution_count": null,
   "metadata": {
    "execution": {
     "iopub.execute_input": "2021-01-05T10:18:08.119626Z",
     "iopub.status.busy": "2021-01-05T10:18:08.119324Z",
     "iopub.status.idle": "2021-01-05T10:18:08.359987Z",
     "shell.execute_reply": "2021-01-05T10:18:08.359626Z"
    }
   },
   "outputs": [],
   "source": [
    "def mean_std_stat(X, Y):\n",
    "    X, Y = as_tensors(X, Y)\n",
    "    assert len(X.shape) == len(Y.shape) == 1\n",
    "    # TODO: implement\n",
    "    \n",
    "    return (X.mean() - Y.mean()) ** 2 + (X.std() - Y.std()) ** 2\n",
    "\n",
    "plot_permutation_samples(\n",
    "    *two_sample_permutation_test(mean_std_stat, X, Y),\n",
    "    from_zero=True)"
   ]
  },
  {
   "cell_type": "markdown",
   "metadata": {},
   "source": [
    "No good. Of course, it's possible we were just unlucky (as we saw could happen above), but this test clearly can't distinguish between distributions with the same mean and variance in any case \u2013\u00a0so it's time to move onto something better."
   ]
  },
  {
   "cell_type": "markdown",
   "metadata": {},
   "source": [
    "## Maximum Mean Discrepancy\n",
    "\n",
    "As we saw in the lectures this morning, the MMD can be thought of as either\n",
    "$$\n",
    "\\MMD(\\PP, \\QQ)\n",
    "= \\sup_{f \\in \\mathcal H : \\lVert f \\rVert_{\\mathcal H} \\le 1} \\E_{X \\sim \\PP}[f(X)] - \\E_{Y \\sim \\QQ}[ f(Y) ]\n",
    "$$\n",
    "or, more relevantly right now,\n",
    "$$\n",
    "\\MMD(\\PP, \\QQ)\n",
    "=\n",
    "\\lVert\n",
    "\\E_X[ \\varphi(X) ]\n",
    "- \\E_Y[ \\varphi(Y) ]\n",
    "\\rVert_{\\mathcal H}\n",
    "$$\n",
    "where $\\varphi : \\mathcal X \\to \\mathcal H$ is the feature map."
   ]
  },
  {
   "cell_type": "markdown",
   "metadata": {},
   "source": [
    "If we take $\\varphi(x) = x$, corresponding to a linear kernel, then our squared difference in means is exactly the squared MMD. But we can do a lot better by picking a different kernel."
   ]
  },
  {
   "cell_type": "code",
   "execution_count": null,
   "metadata": {
    "execution": {
     "iopub.execute_input": "2021-01-05T10:18:08.362450Z",
     "iopub.status.busy": "2021-01-05T10:18:08.362101Z",
     "iopub.status.idle": "2021-01-05T10:18:08.364293Z",
     "shell.execute_reply": "2021-01-05T10:18:08.363882Z"
    }
   },
   "outputs": [],
   "source": [
    "class LinearKernel(LazyKernel):\n",
    "    def _compute(self, A, B):\n",
    "        return A @ B.t()"
   ]
  },
  {
   "cell_type": "markdown",
   "metadata": {},
   "source": [
    "**Exercise:** does the difference in means + standard deviations that we used above correspond to an MMD with some kernel? If so, what kernel? If not, is there a kernel MMD that can distinguish the same set of distributions as that can?"
   ]
  },
  {
   "cell_type": "markdown",
   "metadata": {},
   "source": [
    "Remember from lecture that a *characteristic* kernel, like the Gaussian, can distinguish *any* pair of distributions (with enough samples). Let's start with the Gaussian; go ahead and bring over your implementation from the other notebook."
   ]
  },
  {
   "cell_type": "code",
   "execution_count": null,
   "metadata": {
    "execution": {
     "iopub.execute_input": "2021-01-05T10:18:08.367616Z",
     "iopub.status.busy": "2021-01-05T10:18:08.367279Z",
     "iopub.status.idle": "2021-01-05T10:18:08.369589Z",
     "shell.execute_reply": "2021-01-05T10:18:08.369255Z"
    }
   },
   "outputs": [],
   "source": [
    "class RBFKernel(LazyKernel):\n",
    "    def __init__(self, *parts, sigma=1):\n",
    "        super().__init__(*parts)\n",
    "        self.sigma = sigma\n",
    "        self.const_diagonal = 1  # Says that k(x, x) = 1 for any x\n",
    "    \n",
    "    # TODO: implement _compute (maybe with _precompute)\n"
   ]
  },
  {
   "cell_type": "markdown",
   "metadata": {},
   "source": [
    "### `Matrix` classes\n",
    "\n",
    "There's also one handy thing about these `LazyKernel` classes that we didn't need in the ridge regression setting, but might be useful here. (You don't have to use them, but you can.)\n",
    "\n",
    "if you do `K.XY_m` (or `K.YY_m` or `K.matrix(0, 1)`, etc), then you get a special `ds3_support.kernels.Matrix` subclass. This implements \u2013\u00a0and caches \u2013\u00a0various operations you might need. Let's take a look:"
   ]
  },
  {
   "cell_type": "code",
   "execution_count": null,
   "metadata": {
    "execution": {
     "iopub.execute_input": "2021-01-05T10:18:08.372057Z",
     "iopub.status.busy": "2021-01-05T10:18:08.371777Z",
     "iopub.status.idle": "2021-01-05T10:18:08.373853Z",
     "shell.execute_reply": "2021-01-05T10:18:08.373596Z"
    }
   },
   "outputs": [],
   "source": [
    "# make X, Y into [n, 1] matrices instead of just vectors\n",
    "if len(X.shape) == 1:\n",
    "    X = X[:, None]\n",
    "if len(Y.shape) == 1:\n",
    "    Y = Y[:, None]"
   ]
  },
  {
   "cell_type": "code",
   "execution_count": null,
   "metadata": {
    "execution": {
     "iopub.execute_input": "2021-01-05T10:18:08.375806Z",
     "iopub.status.busy": "2021-01-05T10:18:08.375516Z",
     "iopub.status.idle": "2021-01-05T10:18:08.377617Z",
     "shell.execute_reply": "2021-01-05T10:18:08.377855Z"
    }
   },
   "outputs": [],
   "source": [
    "K = RBFKernel(X, Y)"
   ]
  },
  {
   "cell_type": "code",
   "execution_count": null,
   "metadata": {
    "execution": {
     "iopub.execute_input": "2021-01-05T10:18:08.379842Z",
     "iopub.status.busy": "2021-01-05T10:18:08.379546Z",
     "iopub.status.idle": "2021-01-05T10:18:08.387340Z",
     "shell.execute_reply": "2021-01-05T10:18:08.388278Z"
    }
   },
   "outputs": [],
   "source": [
    "K.XY_m"
   ]
  },
  {
   "cell_type": "code",
   "execution_count": null,
   "metadata": {
    "execution": {
     "iopub.execute_input": "2021-01-05T10:18:08.393497Z",
     "iopub.status.busy": "2021-01-05T10:18:08.392586Z",
     "iopub.status.idle": "2021-01-05T10:18:08.400307Z",
     "shell.execute_reply": "2021-01-05T10:18:08.399366Z"
    }
   },
   "outputs": [],
   "source": [
    "K.XX_m"
   ]
  },
  {
   "cell_type": "code",
   "execution_count": null,
   "metadata": {
    "execution": {
     "iopub.execute_input": "2021-01-05T10:18:08.406245Z",
     "iopub.status.busy": "2021-01-05T10:18:08.405308Z",
     "iopub.status.idle": "2021-01-05T10:18:08.410716Z",
     "shell.execute_reply": "2021-01-05T10:18:08.409759Z"
    }
   },
   "outputs": [],
   "source": [
    "print('  '.join(m for m in dir(K.XY_m) if not m.startswith('_')))"
   ]
  },
  {
   "cell_type": "code",
   "execution_count": null,
   "metadata": {
    "execution": {
     "iopub.execute_input": "2021-01-05T10:18:08.413522Z",
     "iopub.status.busy": "2021-01-05T10:18:08.413240Z",
     "iopub.status.idle": "2021-01-05T10:18:08.415690Z",
     "shell.execute_reply": "2021-01-05T10:18:08.415386Z"
    }
   },
   "outputs": [],
   "source": [
    "print('  '.join(m for m in dir(K.XX_m) if not m.startswith('_')))"
   ]
  },
  {
   "cell_type": "code",
   "execution_count": null,
   "metadata": {
    "execution": {
     "iopub.execute_input": "2021-01-05T10:18:08.417784Z",
     "iopub.status.busy": "2021-01-05T10:18:08.417395Z",
     "iopub.status.idle": "2021-01-05T10:18:08.420980Z",
     "shell.execute_reply": "2021-01-05T10:18:08.421209Z"
    }
   },
   "outputs": [],
   "source": [
    "K.XX_m.mean(), K.XX_m.offdiag_mean()"
   ]
  },
  {
   "cell_type": "markdown",
   "metadata": {},
   "source": [
    "Check out the second half of [`ds3_support/kernels.py`](ds3_support/kernels.py) to see how they're implemented / what options there are."
   ]
  },
  {
   "cell_type": "markdown",
   "metadata": {},
   "source": [
    "### MMD estimators\n",
    "\n",
    "Okay, enough admiring my beautiful code. Remember that we have\n",
    "\\begin{align}\n",
    "\\MMD^2(\\PP, \\QQ)\n",
    "  &= \\lVert \\E_X[ \\varphi(X) ] - \\E_Y[ \\varphi(Y) ] \\rVert_\\h^2\n",
    "\\\\&= \\langle\n",
    "        \\E_X[ \\varphi(X) ] - \\E_Y[ \\varphi(Y) ],\n",
    "        \\E_X[ \\varphi(X) ] - \\E_Y[ \\varphi(Y) ]\n",
    "     \\rangle_\\h\n",
    "\\\\&= \\langle \\E_X[ \\varphi(X) ], \\E_X[ \\varphi(X) \\rangle_\\h\n",
    "   + \\langle \\E_Y[ \\varphi(Y) ], \\E_Y[ \\varphi(Y) \\rangle_\\h\n",
    "   - 2 \\langle \\E_X[ \\varphi(X) ], \\E_Y[ \\varphi(Y) ] \\rangle_\\h\n",
    "\\\\&= \\E_{X, X', Y, Y'}\\left[\n",
    "     \\langle \\varphi(X), \\varphi(X') \\rangle_\\h\n",
    "   + \\langle \\varphi(Y), \\varphi(Y') \\rangle_\\h\n",
    "   - 2 \\langle \\varphi(X), \\varphi(Y) \\rangle_\\h\n",
    "   \\right]\n",
    "\\\\&= \\E_{X, X', Y, Y'}\\left[\n",
    "     k(X, X')\n",
    "   + k(Y, Y')\n",
    "   - 2 k(X, Y)\n",
    "   \\right]\n",
    ".\\end{align}"
   ]
  },
  {
   "cell_type": "markdown",
   "metadata": {},
   "source": [
    "This gives a pretty natural idea for how to estimate the MMD. Well, three ideas of varying amounts of naturalness:\n",
    "\n",
    "The *biased* estimator (exactly the MMD between the empirical distributions) is, if we have $m$ samples from $X$ and $n$ from $Y$:\n",
    "$$\n",
    "\\MMDhat_b^2(X, Y)\n",
    "= \\frac{1}{m^2} \\sum_{i=1}^m \\sum_{j=1}^m k(X_i, X_j)\n",
    "+ \\frac{1}{n^2} \\sum_{i=1}^n \\sum_{j=1}^n k(Y_i, Y_j)\n",
    "- \\frac{2}{m n} \\sum_{i=1}^m \\sum_{j=1}^n k(X_i, Y_j)\n",
    ".$$\n",
    "But this term has an bias due to the $k(X_i, X_i)$ and $k(Y_i, Y_i)$ terms. (You can tell that it's biased because we can have $\\MMD^2(\\PP, \\QQ) = 0$, but we can have $\\MMDhat^2(X, Y) > 0$ even when $\\PP = \\QQ$ but we can't have $\\MMDhat^2(X, Y) < 0$. Thus $\\E \\MMDhat^2(X, Y) > 0$.\n",
    "\n",
    "The *unbiased* estimator gets rid of these terms:\n",
    "$$\n",
    "\\MMDhat_u^2(X, Y)\n",
    "= \\frac{1}{m (m-1)} \\sum_{i \\ne j}^m k(X_i, X_j)\n",
    "+ \\frac{1}{n (n-1)} \\sum_{i \\ne j}^n k(Y_i, Y_j)\n",
    "- \\frac{2}{m n} \\sum_{i=1}^m \\sum_{j=1}^n k(X_i, Y_j)\n",
    ".$$\n",
    "This makes it unbiased, and in fact it's the minimum variance unbiased estimator.\n",
    "\n",
    "The $U$-statistic estimator only works when $n = m$, and also takes out the $k(X_i, Y_i)$ terms, which gives you a slightly worse estimator:\n",
    "$$\n",
    "\\MMDhat_U^2(X, Y)\n",
    "= \\frac{1}{m (m-1)} \\sum_{i \\ne j}^m \\left(\n",
    "    k(X_i, X_j) + k(Y_i, Y_j) - 2 k(X_i, Y_j)\n",
    "  \\right)\n",
    ".$$\n",
    "The advantage is that $U$-statistics have been studied pretty thoroughly by statisticians, so we know things about their variance and whatnot."
   ]
  },
  {
   "cell_type": "markdown",
   "metadata": {},
   "source": [
    "**Exercise:** Implement these estimators, as functions of a `LazyKernel(X, Y)`. Using the `Matrix` helpers, each can be literally one line, but you can implement it however you feel like. You don't necessarily have to do all three; do at least one of them, but the others aren't too much extra work on top of the first one."
   ]
  },
  {
   "cell_type": "code",
   "execution_count": null,
   "metadata": {
    "execution": {
     "iopub.execute_input": "2021-01-05T10:18:08.424513Z",
     "iopub.status.busy": "2021-01-05T10:18:08.424194Z",
     "iopub.status.idle": "2021-01-05T10:18:08.426171Z",
     "shell.execute_reply": "2021-01-05T10:18:08.426529Z"
    }
   },
   "outputs": [],
   "source": [
    "def mmd2_biased(K):\n",
    "    pass  # TODO: implement, using K.XX, K.XY, K.YY (or _m)\n",
    "\n",
    "def mmd2_unbiased(K):\n",
    "    pass  # TODO: implement\n",
    "\n",
    "def mmd2_u_stat(K):\n",
    "    assert K.ns[0] == K.ns[1]\n",
    "    # TODO: implement\n"
   ]
  },
  {
   "cell_type": "code",
   "execution_count": null,
   "metadata": {
    "execution": {
     "iopub.execute_input": "2021-01-05T10:18:08.428791Z",
     "iopub.status.busy": "2021-01-05T10:18:08.428498Z",
     "iopub.status.idle": "2021-01-05T10:18:09.876619Z",
     "shell.execute_reply": "2021-01-05T10:18:09.876285Z"
    }
   },
   "outputs": [],
   "source": [
    "plot_permutation_samples(\n",
    "    *two_sample_permutation_test(lambda X, Y: mmd2_biased(RBFKernel(X, Y)), X, Y),\n",
    "    from_zero=True)"
   ]
  },
  {
   "cell_type": "code",
   "execution_count": null,
   "metadata": {
    "execution": {
     "iopub.execute_input": "2021-01-05T10:18:09.878936Z",
     "iopub.status.busy": "2021-01-05T10:18:09.878644Z",
     "iopub.status.idle": "2021-01-05T10:18:11.279135Z",
     "shell.execute_reply": "2021-01-05T10:18:11.278813Z"
    }
   },
   "outputs": [],
   "source": [
    "plot_permutation_samples(\n",
    "    *two_sample_permutation_test(lambda X, Y: mmd2_unbiased(RBFKernel(X, Y)), X, Y),\n",
    "    one_sided=True)"
   ]
  },
  {
   "cell_type": "code",
   "execution_count": null,
   "metadata": {
    "execution": {
     "iopub.execute_input": "2021-01-05T10:18:11.281326Z",
     "iopub.status.busy": "2021-01-05T10:18:11.281044Z",
     "iopub.status.idle": "2021-01-05T10:18:12.652925Z",
     "shell.execute_reply": "2021-01-05T10:18:12.653357Z"
    }
   },
   "outputs": [],
   "source": [
    "plot_permutation_samples(\n",
    "    *two_sample_permutation_test(lambda X, Y: mmd2_u_stat(RBFKernel(X, Y)), X, Y),\n",
    "    one_sided=True)"
   ]
  },
  {
   "cell_type": "markdown",
   "metadata": {},
   "source": [
    "They're all pretty much the same; when you're just doing permutation testing, the differences between them aren't super important."
   ]
  },
  {
   "cell_type": "markdown",
   "metadata": {},
   "source": [
    "**Exercise:** Run the test with a `LinearKernel`. Which of our estimators, if any, corresponds to the `mean_difference` statistic from before? (Do you understand why?)"
   ]
  },
  {
   "cell_type": "markdown",
   "metadata": {},
   "source": [
    "**Optional:** We're working on small datasets here so far, so this implementation of permutations is fine. But notice that we're recomputing the kernel matrix for each permutation, even though the matrices actually have all the same elements (just in jumbled-up order). Implement a faster way that doesn't involve this recomputation.\n",
    "\n",
    "Hint: this is easiest for the biased estimator, which you can write in a way amenable to [this kind of approach](https://pytorch.org/docs/stable/torch.html#torch.einsum). (The `LazyKernel.joint()` method, which concatenates all the kernel matrices together, might be useful.) Doing some algebra to work out a few slightly annoying correction terms, you can also do it similarly for the U-statistic estimator.\n",
    "\n",
    "If you're really, really careful, you can also make the unbiased estimator really fast (exploiting cache locality and things like that). We wrote about this in [this paper](https://arxiv.org/abs/1611.04488) (Section 3), and it's implemented in [Shogun](https://www.shogun-toolbox.org/). (Example usage [here](http://shogun.ml/examples/latest/examples/statistical_testing/quadratic_time_mmd.html).)\n",
    "\n",
    "**Extra credit:** empirically compare how our silly implementation here, your faster implementation, and the Shogun implementation scale as the dataset size increases."
   ]
  },
  {
   "cell_type": "code",
   "execution_count": null,
   "metadata": {
    "execution": {
     "iopub.execute_input": "2021-01-05T10:18:13.645768Z",
     "iopub.status.busy": "2021-01-05T10:18:13.645469Z",
     "iopub.status.idle": "2021-01-05T10:18:13.647566Z",
     "shell.execute_reply": "2021-01-05T10:18:13.647267Z"
    }
   },
   "outputs": [],
   "source": [
    "# Override this function if you implement a better one yourself,\n",
    "# and the stuff later will run faster....\n",
    "# This just establishes an API for passing in a kernel directly,\n",
    "# which is a little clumsy to implement, but it's not any faster.\n",
    "def mmd2_permutations_slow(K, use_biased=True, num_permutations=1000, progress=True):\n",
    "    # Some fiddling to be able to use the same kernel with \"new\" data.\n",
    "    from copy import copy\n",
    "    K_copy = copy(K)\n",
    "    def mmd2_with_K(X, Y):\n",
    "        K_copy.change_part(0, X)\n",
    "        K_copy.change_part(1, Y)\n",
    "        return (mmd2_biased if use_biased else mmd2_unbiased)(K_copy)\n",
    "    \n",
    "    return two_sample_permutation_test(\n",
    "        mmd2_with_K, K.X, K.Y,\n",
    "        num_permutations=num_permutations, progress=progress)\n",
    "\n",
    "mmd2_permutations = mmd2_permutations_slow"
   ]
  },
  {
   "cell_type": "code",
   "execution_count": null,
   "metadata": {
    "execution": {
     "iopub.execute_input": "2021-01-05T10:18:13.649745Z",
     "iopub.status.busy": "2021-01-05T10:18:13.649442Z",
     "iopub.status.idle": "2021-01-05T10:18:14.526517Z",
     "shell.execute_reply": "2021-01-05T10:18:14.526769Z"
    }
   },
   "outputs": [],
   "source": [
    "plot_permutation_samples(*mmd2_permutations_slow(K))"
   ]
  },
  {
   "cell_type": "code",
   "execution_count": null,
   "metadata": {
    "execution": {
     "iopub.execute_input": "2021-01-05T10:18:14.535185Z",
     "iopub.status.busy": "2021-01-05T10:18:14.534906Z",
     "iopub.status.idle": "2021-01-05T10:18:14.742489Z",
     "shell.execute_reply": "2021-01-05T10:18:14.742178Z"
    }
   },
   "outputs": [],
   "source": [
    "plot_permutation_samples(*mmd2_permutations(K))"
   ]
  },
  {
   "cell_type": "markdown",
   "metadata": {},
   "source": [
    "### Alternative methods to estimate the null distribution\n",
    "\n",
    "There are many other way to get our hands on the distribution of the MMD test statistic under the null hypothesis.\n",
    "\n",
    "We know that asymptotically, the distribution is an infinite sum of Chi-square variables \u2013 but it's an infinite sum, and we don't even know what sum it is, so that doesn't help us too much.\n",
    "Techniques to approximate it include:\n",
    "\n",
    "* moment matching using a Gamma distribution: fast, but doesn't result in a consistent test.\n",
    "* a spectral approximation: using eigenvalues of the kernel matrix, we can estimate that infinite sum. Costly (cubic!) for large sample sets.\n",
    "* wild bootstrap: a technique used for correlated samples that is similar to permuting. (It's useful for e.g. testing an MCMC chain, though.)\n",
    "* linear time statistics: for those, one can often show that the null distribution is Gaussian, with a variance you can estimate in closed form.\n",
    "\n",
    "We won't cover any of these here, since they require some more details.\n",
    "The permutation test, while it can potentially be slow, is easy to understand and works for most applications (if implemented well).\n",
    "\n",
    "[This old Shogun notebook](https://nbviewer.jupyter.org/github/shogun-toolbox/shogun/blob/develop/doc/ipython-notebooks/statistical_testing/mmd_two_sample_testing.ipynb) contains many null approximation methods."
   ]
  },
  {
   "cell_type": "markdown",
   "metadata": {},
   "source": [
    "## MMD witness function in the RKHS\n",
    "\n",
    "One nice feature of the MMD is that we can see where the density functions are different by looking at the (empirical) MMD witness function.\n",
    "Remember that\n",
    "\\begin{align}\n",
    "\\MMD(\\PP, \\QQ)\n",
    "  &= \\sup_{f : \\lVert f \\rVert_\\h \\le 1} \\E_{X \\sim \\PP} f(X) - \\E_{Y \\sim \\QQ} f(Y)\n",
    "\\\\&= \\sup_{f : \\lVert f \\rVert_\\h \\le 1} \\langle f, \\E_{X \\sim \\PP}[\\varphi(X)] - \\E_{Y \\sim \\QQ}[\\varphi(Y)] \\rangle_\\h\n",
    "\\end{align}\n",
    "and so\n",
    "$$\n",
    "f^* \\propto \\E_{X \\sim \\PP}[\\varphi(X)] - \\E_{Y \\sim \\QQ}[\\varphi(Y)]\n",
    ",$$\n",
    "which means (using $f^*(t) = \\langle f^*, \\varphi(t) \\rangle_\\h$)\n",
    "$$\n",
    "f^*(t) \\propto \\E_{X \\sim \\PP} k(X, t) - \\E_{Y \\sim \\QQ} k(Y, t)\n",
    ".$$\n",
    "\n",
    "We can estimate $f^*$ with empirical averages.\n",
    "\n",
    "**Thought exercises:**\n",
    "- What's the proportionality constant hidden by $\\propto$?\n",
    "- Does the constant matter?\n",
    "- Which MMD estimator, if any, does directly estimating $f^*$ correspond to?\n",
    "\n",
    "The points where $\\lvert f^*(t) \\rvert$ are large are where the MMD test considers $\\PP$ and $\\QQ$ to be the \"most different.\"\n",
    "Let's define a grid and evaluate the witness function on it to see where that is."
   ]
  },
  {
   "cell_type": "code",
   "execution_count": null,
   "metadata": {
    "execution": {
     "iopub.execute_input": "2021-01-05T10:18:14.747484Z",
     "iopub.status.busy": "2021-01-05T10:18:14.747055Z",
     "iopub.status.idle": "2021-01-05T10:18:14.931393Z",
     "shell.execute_reply": "2021-01-05T10:18:14.931066Z"
    }
   },
   "outputs": [],
   "source": [
    "def mmd_witness(K, eval_pts):\n",
    "    assert K.n_parts == 2\n",
    "    K.append_part(eval_pts[:, None])  # now K.XZ compares X to eval_pts\n",
    "    \n",
    "    witness = 0\n",
    "    # TODO: estimate MMD witness function on grid_pts\n",
    "    \n",
    "    K.drop_last_part()\n",
    "    return witness\n",
    "\n",
    "def plot_mmd_witness_1d(K, ax=None, grid_num=1000):\n",
    "    X, Y = [t.squeeze(1) for t in K.parts]\n",
    "    assert len(X.shape) == 1\n",
    "    \n",
    "    if ax is None:\n",
    "        ax = plt.gca()\n",
    "    ax.hist(X.numpy(), alpha=.5, density=True, histtype='stepfilled', bins='auto')\n",
    "    ax.hist(Y.numpy(), alpha=.5, density=True, histtype='stepfilled', bins='auto')\n",
    "    ax.grid(False)\n",
    "    ax.set_ylabel(\"Density\")\n",
    "    \n",
    "    ax2 = ax.twinx()\n",
    "    lo, hi = ax2.get_xlim()\n",
    "    grid_pts = torch.linspace(lo, hi, grid_num)\n",
    "    ax2.plot(grid_pts.numpy(), mmd_witness(K, grid_pts).numpy(), color='k', lw=2)\n",
    "    ax2.set_xlim(lo, hi)\n",
    "    ax2.grid(False)\n",
    "    ax2.axhline(0, color='k', lw=0.5)\n",
    "    ax2.set_ylabel(\"Witness value\")\n",
    "    \n",
    "plot_mmd_witness_1d(RBFKernel(X, Y))"
   ]
  },
  {
   "cell_type": "markdown",
   "metadata": {},
   "source": [
    "As we can see, the witness function is positive where X as a higher density than Y, and negative vice versa.\n",
    "It is zero where both densities match.\n",
    "Intuitively, the RKHS norm of this function can only be zero if the densities match everywhere, and it grows as the densities differ on more and more points in their support.\n",
    "Of course, this kind of visualization only works in low dimensions."
   ]
  },
  {
   "cell_type": "markdown",
   "metadata": {},
   "source": [
    "## Kernel learning\n",
    "\n",
    "After doing the ridge regression notebook, hopefully it doesn't surprise you that choosing the right kernel will be important here, too. But let's see what happens:\n",
    "\n",
    "**Thought exercise:** What do you expect the results of the next code block to look like?"
   ]
  },
  {
   "cell_type": "code",
   "execution_count": null,
   "metadata": {
    "execution": {
     "iopub.execute_input": "2021-01-05T10:18:14.984072Z",
     "iopub.status.busy": "2021-01-05T10:18:14.983771Z",
     "iopub.status.idle": "2021-01-05T10:18:16.321429Z",
     "shell.execute_reply": "2021-01-05T10:18:16.321113Z"
    }
   },
   "outputs": [],
   "source": [
    "for sig in [.1, .001, 10]:\n",
    "    K = RBFKernel(X, Y, sigma=sig)\n",
    "    fig, (a1, a2) = plt.subplots(ncols=2, figsize=(12, 4))\n",
    "    plot_permutation_samples(*mmd2_permutations(K), ax=a1, from_zero=True)\n",
    "    plot_mmd_witness_1d(K, ax=a2)\n",
    "    fig.suptitle(f\"$\\sigma$ = {sig}\")"
   ]
  },
  {
   "cell_type": "markdown",
   "metadata": {},
   "source": [
    "Make sure you intuitively understand what happened here (especially the witness plots)."
   ]
  },
  {
   "cell_type": "markdown",
   "metadata": {},
   "source": [
    "Anyway, remember the median heuristic rule from before? That also works for two-sample testing, for many datasets. Let's try it here:"
   ]
  },
  {
   "cell_type": "code",
   "execution_count": null,
   "metadata": {
    "execution": {
     "iopub.execute_input": "2021-01-05T10:18:16.324472Z",
     "iopub.status.busy": "2021-01-05T10:18:16.324195Z",
     "iopub.status.idle": "2021-01-05T10:18:16.658819Z",
     "shell.execute_reply": "2021-01-05T10:18:16.658508Z"
    }
   },
   "outputs": [],
   "source": [
    "def median_distance(Z):\n",
    "    # TODO: compute the median distance among the stacked samples Z\n",
    "    # If you want to be fancy, add options to optionally subset if Z is big.\n",
    "    return median_dist\n",
    "\n",
    "med = median_distance(torch.cat([X, Y], 0))\n",
    "K = RBFKernel(X, Y, sigma=med)\n",
    "\n",
    "fig, (a1, a2) = plt.subplots(ncols=2, figsize=(12, 4))\n",
    "plot_permutation_samples(*mmd2_permutations(K), ax=a1, one_sided=True)\n",
    "plot_mmd_witness_1d(K, ax=a2)\n",
    "\n",
    "med.item()"
   ]
  },
  {
   "cell_type": "markdown",
   "metadata": {},
   "source": [
    "So the default 1 wasn't too far off, actually. The median heuristic worked great!\n",
    "\n",
    "But it doesn't always."
   ]
  },
  {
   "cell_type": "markdown",
   "metadata": {},
   "source": [
    "### A dataset where the median heuristic doesn't work"
   ]
  },
  {
   "cell_type": "code",
   "execution_count": null,
   "metadata": {
    "execution": {
     "iopub.execute_input": "2021-01-05T10:18:16.682238Z",
     "iopub.status.busy": "2021-01-05T10:18:16.680510Z",
     "iopub.status.idle": "2021-01-05T10:18:16.918215Z",
     "shell.execute_reply": "2021-01-05T10:18:16.917907Z"
    }
   },
   "outputs": [],
   "source": [
    "fig, (ax1, ax2) = plt.subplots(ncols=2, figsize=(12, 4))\n",
    "\n",
    "with np.load('data/blobs.npz') as d:\n",
    "    X, Y = as_tensors(d['X'], d['Y'])\n",
    "ax1.scatter(*X.t(), alpha=.5, label='X')\n",
    "ax1.scatter(*Y.t(), alpha=.5, label='Y')\n",
    "# ax1.legend()\n",
    "ax1.set_title(\"Blobs\")\n",
    "\n",
    "with np.load('data/blobs_single.npz') as d:\n",
    "    ax2.scatter(*d['X'].T, alpha=0.5, label='X')\n",
    "    ax2.scatter(*d['Y'].T, alpha=0.5, label='Y')\n",
    "ax2.legend()\n",
    "ax2.set_title(\"One blob (zoomed in)\")"
   ]
  },
  {
   "cell_type": "markdown",
   "metadata": {},
   "source": [
    "These two distributions are clearly very different. But the scale at which they're different is much smaller than the median distance, which looks mostly at global structure."
   ]
  },
  {
   "cell_type": "code",
   "execution_count": null,
   "metadata": {
    "execution": {
     "iopub.execute_input": "2021-01-05T10:18:16.920776Z",
     "iopub.status.busy": "2021-01-05T10:18:16.920413Z",
     "iopub.status.idle": "2021-01-05T10:18:17.116945Z",
     "shell.execute_reply": "2021-01-05T10:18:17.116498Z"
    }
   },
   "outputs": [],
   "source": [
    "med = median_distance(torch.cat([X, Y], 0))\n",
    "K = RBFKernel(X, Y, sigma=med)\n",
    "\n",
    "plot_permutation_samples(*mmd2_permutations(K), from_zero=True)\n",
    "med.item()"
   ]
  },
  {
   "cell_type": "markdown",
   "metadata": {},
   "source": [
    "As a machine learner (and maybe forgetting about the end of the ridge regression notebook from earlier), your first instinct might be to try a bunch of different values and see which one works best.\n",
    "\n",
    "One question is what \"best\" means. Well, we can try doing cross-validation and seeing which kernel choice rejects the null most often.\n",
    "\n",
    "Note that we need to do this kernel fitting on *separate* data than conducting our final test. Otherwise we'd overfit, and be too likely to reject the null by post-hoc picking one that was big just due to chance. In real life, if `X` and `Y` were all we had, we'd have to split them up (and guess at how much to split them by...) into a \"training\" and a \"testing\" set.\n",
    "\n",
    "**Quick thought exercise:** What are the tradeoffs when picking a bigger training set versus a bigger testing set? When would one be a better choice? Can you try multiple values and see?\n",
    "\n",
    "\n",
    "Because I'm generous, I'm going to provide you with another set of samples to learn a kernel on. Happy birthday!"
   ]
  },
  {
   "cell_type": "code",
   "execution_count": null,
   "metadata": {
    "execution": {
     "iopub.execute_input": "2021-01-05T10:18:17.119768Z",
     "iopub.status.busy": "2021-01-05T10:18:17.118955Z",
     "iopub.status.idle": "2021-01-05T10:18:17.122396Z",
     "shell.execute_reply": "2021-01-05T10:18:17.122088Z"
    }
   },
   "outputs": [],
   "source": [
    "with np.load('data/blobs2.npz') as d:\n",
    "    X_train, Y_train = as_tensors(d['X'], d['Y'])"
   ]
  },
  {
   "cell_type": "markdown",
   "metadata": {},
   "source": [
    "**Exercise:** implement cross-validation or a similar scheme to estimate kernel power. [`sklearn.model_selection`](https://scikit-learn.org/stable/modules/classes.html#module-sklearn.model_selection) has some useful helpers if you want.\n",
    "\n",
    "You'll need to:\n",
    "- For each $\\sigma$ in a list of candidates:\n",
    "  - Split `X_train`, `Y_train` into subsets somehow (cross-validation or similar).\n",
    "  - For each split:\n",
    "    - Compute the $p$-value of a test based on the return value from `mmd2_permutations`.\n",
    "      (You might want to pass `progress=False` and only use an outer progress bar, for cleanliness.)\n",
    "    - Check whether the test rejected the null.\n",
    "  - Save the portion of times it rejected the null.\n",
    "- Compare (plot!) the power of each $\\sigma$.\n",
    "- Choose the best one, and use it to test on `X` and `Y`."
   ]
  },
  {
   "cell_type": "markdown",
   "metadata": {},
   "source": [
    "This seems to give us an idea of which kernel parameter is better. Unfortunately, this approach is quite costly and noisy. In reality, we would also want to use more folds, repeat the cross-validation, and try out more kernel parameters (play with it and you will see). It's also tough to differentiate, so scaling to more complex kernel classes seems quite challenging.\n",
    "\n",
    "We could try one of the faster approximations for the null distribution mentioned above, for example the moment matching Gamma approach. This would speed up the procedure, but, the Gamma approximation has its limits in how accurate it is, especially for extreme values of the kernel.\n",
    "\n",
    "Instead, we'll do something better."
   ]
  },
  {
   "cell_type": "markdown",
   "metadata": {},
   "source": [
    "### Proxy criterion for kernel power\n",
    "\n",
    "It turns out that under the alternative $\\PP \\ne \\QQ$,\n",
    "$\\MMDhat_U^2$ is asymptotically normal,\n",
    "$$\n",
    "\\frac{\\MMDhat_U^2(X, Y) - \\MMD^2(\\PP, \\QQ)}{\\sqrt{\\Var_{X' \\sim \\PP^m, Y' \\sim \\QQ^m}\\left[ \\MMDhat_U^2(X', Y') \\right]}}\n",
    "\\stackrel{D}{\\to}\n",
    "\\mathcal N(0, 1)\n",
    ".$$\n",
    "Call that thing in the denominator,\n",
    "which is the variance of $\\MMDhat_U^2$ given samples of size $m$ from $\\PP$ and $\\QQ$,\n",
    "$V_m(\\PP, \\QQ)$.\n",
    "\n",
    "Under the null hypothesis $\\PP = \\QQ$,\n",
    "we have that $m \\MMDhat_U^2(X, Y)$ converges to some gross distribution (an infinite mixture of chi-squares).\n",
    "Let $c_\\alpha$ be the $(1-\\alpha)$th quantile of that distribution,\n",
    "the rejection threshold;\n",
    "we don't know that exactly,\n",
    "but we can estimate it with permutation testing as $\\hat c_\\alpha$.\n",
    "In this framework, note that $c_\\alpha$ depends on $\\PP$ and $\\QQ$ (and the kernel in the MMD)\n",
    "but it *doesn't* depend on $m$,\n",
    "and in the usual setting we have\n",
    "$\\hat c_\\alpha \\to c_\\alpha$.\n",
    "\n",
    "So, the power of our test \u2013\u00a0the probability of rejecting when $\\PP \\ne \\QQ$ \u2013 is just\n",
    "\n",
    "\\begin{align}\n",
    "     \\Pr\\left( m \\MMDhat_U^2(X, Y) > \\hat c_\\alpha \\right)\n",
    "  &= \\Pr\\left(\n",
    "       \\frac{\\MMDhat_U^2(X, Y) - \\MMD^2(\\PP, \\QQ)}{\\sqrt{V_m(\\PP, \\QQ)}}\n",
    "     > \\frac{\\hat c_\\alpha / m - \\MMD^2(\\PP, \\QQ)}{\\sqrt{V_m(\\PP, \\QQ)}}\n",
    "   \\right)\n",
    "\\\\&\\to 1 - \\Phi\\left(\n",
    "        \\frac{c_\\alpha / m - \\MMD^2(\\PP, \\QQ)}{\\sqrt{V_m(\\PP, \\QQ)}}\n",
    "    \\right)\n",
    "\\\\&= \\Phi\\left(\n",
    "      \\frac{\\MMD^2(\\PP, \\QQ)}{\\sqrt{V_m(\\PP, \\QQ)}}\n",
    "    - \\frac{c_\\alpha}{m \\sqrt{V_m(\\PP, \\QQ)}}\n",
    "    \\right)\n",
    "\\end{align}\n",
    "\n",
    "We can then maximize the power of the test by maximizing the thing inside the parentheses.\n",
    "\n",
    "Now, it turns out that for a fixed kernel, $V_m$ is $\\mathcal{O}(1 / m)$, and $\\MMD^2$ and $c_\\alpha$ are constants. So the first term is $\\mathcal{O}\\left(\\sqrt{m}\\right)$ and the second is $\\mathcal{O}\\left(1 / \\sqrt{m}\\right)$ \u2013\u00a0which means we should be able to just ignore the second term when $m$ is reasonably large.\n",
    "\n",
    "That means we need to choose $k$ to maximize $\\MMD^2(\\PP, \\QQ) / \\sqrt{V_m(\\PP, \\QQ)}$. We know how to estimate $\\MMD^2$. Turns out you can also estimate $V_m$ in the same quadratic time: see [this note](https://arxiv.org/abs/1906.02104).\n",
    "\n",
    "The note is 12 pages of dense algebra, so...I'll be here when you're done.\n",
    "\n",
    "(Don't actually read it.)\n",
    "\n",
    "**Bonus points:** Find a mistake in the algebra in the note. I checked it three times, but I wouldn't be at all surprised if there are still mistakes!\n",
    "\n",
    "**Big bonus points:** Figure out a way to simplify the derivation. Seriously, huge bonus points.\n",
    "\n",
    "Anyway, even the _expression_ for the estimator is too disgusting to write here. But I implemented it for you, in [`ds3_support.mmd2_u_stat_variance`](ds3_support/mmd.py)."
   ]
  },
  {
   "cell_type": "code",
   "execution_count": null,
   "metadata": {
    "execution": {
     "iopub.execute_input": "2021-01-05T10:18:17.124982Z",
     "iopub.status.busy": "2021-01-05T10:18:17.124648Z",
     "iopub.status.idle": "2021-01-05T10:18:17.127039Z",
     "shell.execute_reply": "2021-01-05T10:18:17.126538Z"
    }
   },
   "outputs": [],
   "source": [
    "from ds3_support import mmd2_u_stat_variance"
   ]
  },
  {
   "cell_type": "markdown",
   "metadata": {},
   "source": [
    "There, I've done the hard part for you. (Also, PyTorch is doing the really hard part, which is differentiating the terrible expression.)\n",
    "\n",
    "**Exercise:** Compare a fixed set of kernels, the different bandwidths on the blobs data, using this criterion. Does it give you the same choice as cross-validation? How many thousands of times faster is it?\n",
    "\n",
    "This is an unbiased estimator, so it might be negative, or zero! Make sure you don't divide by zero."
   ]
  },
  {
   "cell_type": "markdown",
   "metadata": {},
   "source": [
    "**Optional:** We know how to estimate $c_\\alpha$ \u2013\u00a0with permutation testing \u2013 so we could optimize the more-complete criterion, too. Does that give you different answers? What about if $m$ is fairly small?"
   ]
  },
  {
   "cell_type": "markdown",
   "metadata": {},
   "source": [
    "### Gradient descent to optimize the power criterion\n",
    "\n",
    "You know what the deal is by now:\n",
    "\n",
    "**Exercise:** Instead of doing a grid search, optimize $\\lambda$ with gradient descent.\n",
    "\n",
    "Does it always go to the same place, or can you get stuck in local minima?\n",
    "\n",
    "**Optional:** If you implemented a more efficient `mmd2_permutations`, and were a little careful about how you implemented it, you might even be able to differentiate your threshold estimate $\\hat c_\\alpha$. How does that compare?"
   ]
  },
  {
   "cell_type": "markdown",
   "metadata": {},
   "source": [
    "### GAN criticism with an ARD kernel\n",
    "\n",
    "You may have heard of Generative Adversarial Networks, GANs.\n",
    "Assume someone came to you with a new GAN, which generates some realistic looking images, which they say are indistinguishable from the images used to train the GAN.\n",
    "\n",
    "Actually, let's assume that person [said](https://arxiv.org/abs/1606.03498):\n",
    "> On MTurk, annotators were able to distinguish\n",
    "samples in 52.4% of cases (2000 votes total), where 50% would be obtained by random\n",
    "guessing. Similarly, researchers in our institution were not able to find any artifacts that would allow\n",
    "them to distinguish samples.\n",
    "\n",
    "Let's see what the kernel MMD thinks about this.\n",
    "We will use a slightly different kernel than before: an ARD (\"automatic relevance determination\") kernel.\n",
    "You can think of this kernel as scaling each of the $D$ input dimensions by a different parameter, and then uses a standard Gaussian kernel (unit bandwidth) on top of that.\n",
    "$$ k(x,y) = \\exp\\left(-\\frac12 \\sum_{d=1}^D \\left( s_d x_d - s_d y_d \\right)^2\\right).$$"
   ]
  },
  {
   "cell_type": "code",
   "execution_count": null,
   "metadata": {
    "execution": {
     "iopub.execute_input": "2021-01-05T10:18:17.131454Z",
     "iopub.status.busy": "2021-01-05T10:18:17.131117Z",
     "iopub.status.idle": "2021-01-05T10:18:17.133053Z",
     "shell.execute_reply": "2021-01-05T10:18:17.133400Z"
    }
   },
   "outputs": [],
   "source": [
    "class ARDKernel(LazyKernel):\n",
    "    def __init__(self, *parts, scales=1):\n",
    "        super().__init__(*parts)\n",
    "        assert len(self.X.shape) == 2\n",
    "        d = self.X.shape[1]\n",
    "        \n",
    "        scales, = self.as_tensors(scales)\n",
    "        if scales.shape == ():\n",
    "            scales = scales.repeat(d)\n",
    "        else:\n",
    "            assert scales.shape == (d,)\n",
    "\n",
    "        self.scales = scales\n",
    "        self.const_diagonal = 1  # Says that k(x, x) = 1 for any x\n",
    "    \n",
    "    # TODO: implement _compute (maybe with _precompute)\n",
    "    \n"
   ]
  },
  {
   "cell_type": "code",
   "execution_count": null,
   "metadata": {
    "execution": {
     "iopub.execute_input": "2021-01-05T10:18:17.135955Z",
     "iopub.status.busy": "2021-01-05T10:18:17.135554Z",
     "iopub.status.idle": "2021-01-05T10:18:17.139668Z",
     "shell.execute_reply": "2021-01-05T10:18:17.139410Z"
    }
   },
   "outputs": [],
   "source": [
    "# Check that ARDKernel at least agrees with RBFKernel in the special case:\n",
    "Xtmp = torch.randn(3, 4)\n",
    "sigma = torch.exp(torch.randn(()))\n",
    "(ARDKernel(Xtmp, scales=1/sigma).XX\n",
    " - RBFKernel(Xtmp, sigma=sigma).XX).abs().max()"
   ]
  },
  {
   "cell_type": "code",
   "execution_count": null,
   "metadata": {
    "execution": {
     "iopub.execute_input": "2021-01-05T10:18:17.142080Z",
     "iopub.status.busy": "2021-01-05T10:18:17.141666Z",
     "iopub.status.idle": "2021-01-05T10:18:17.176868Z",
     "shell.execute_reply": "2021-01-05T10:18:17.176413Z"
    }
   },
   "outputs": [],
   "source": [
    "with np.load('data/gan-samples.npz') as d:\n",
    "    X, Y = [t.reshape(-1, 784).float() for t in as_tensors(d['X'], d['Y'])]"
   ]
  },
  {
   "cell_type": "code",
   "execution_count": null,
   "metadata": {
    "execution": {
     "iopub.execute_input": "2021-01-05T10:18:17.179739Z",
     "iopub.status.busy": "2021-01-05T10:18:17.179339Z",
     "iopub.status.idle": "2021-01-05T10:18:17.189115Z",
     "shell.execute_reply": "2021-01-05T10:18:17.189410Z"
    },
    "scrolled": true
   },
   "outputs": [],
   "source": [
    "display(\"X (true MNIST) samples:\")\n",
    "display(pil_grid(X[:40].reshape(-1, 1, 28, 28), nrow=20))\n",
    "display(\"Y (GAN) samples:\")\n",
    "display(pil_grid(Y[:40].reshape(-1, 1, 28, 28), nrow=20))"
   ]
  },
  {
   "cell_type": "markdown",
   "metadata": {},
   "source": [
    "**Exercise:** How does a median-heuristic RBF kernel perform on this problem?"
   ]
  },
  {
   "cell_type": "markdown",
   "metadata": {},
   "source": [
    "**Exercise:** Split the data, and optimize an ARD kernel with gradient descent to compare thesem; then run the test on the other half of the data. Does it do better?\n",
    "\n",
    "Can you interpret the ARD weights `K.scales`?\n",
    "\n",
    "We can't do the 1d witness function plot, but can you think of a different way to figure out \"where\" the distributions are different?"
   ]
  },
  {
   "cell_type": "markdown",
   "metadata": {},
   "source": [
    "## Independence testing\n",
    "\n",
    "So far, we've been asking whether $\\PP = \\QQ$ for two different distributions. Sometimes we'd rather do a related problem, *independence testing*. That is, we have paired data $\\{ (X_i, Y_i) \\}_{i=1}^n \\sim \\PP_{XY}^n$, and we want to know whether $X$ and $Y$ are independent or not.\n",
    "\n",
    "By definition, this is the same thing as asking whether $\\PP_{XY} = \\PP_X \\times \\PP_Y$, the product of the marginal distributions. But we know how to do that: if we use a characteristic kernel on the joint space, they're independent if and only if $\\MMD(\\PP_{XY}, \\PP_{X} \\times \\PP_Y) = 0$.\n",
    "The quantity $\\MMD(\\PP_{XY}, \\PP_{X} \\times \\PP_Y)^2$  is also called the HSIC (\"Hilbert-Schmidt Independence Criterion\"). \n",
    "\n",
    "Usually we choose a kernel $k$ for $X$ and a kernel $\\ell$ for $L$, and use the _product kernel_ on the joint space:\n",
    "$$\n",
    "  (k \\times \\ell)( (x, y), (x', y') )\n",
    "  = k(x, x') \\ell(y, y')\n",
    ".$$\n",
    "It turns out you can estimate it like this:\n",
    "$$\n",
    "\\frac{1}{n^2} \\Tr\\left( H K H L \\right)\n",
    ",$$\n",
    "where $K$ is the kernel matrix on the $X$ samples,\n",
    "$L$ is the kernel matrix on the $L$ samples,\n",
    "and $H = I - \\frac1n \\mathbf{1} \\mathbf{1}^T$ is the _centering matrix_."
   ]
  },
  {
   "cell_type": "markdown",
   "metadata": {},
   "source": [
    "**Exercise:** Implement the HSIC estimator. You can do it literally as written here, with an H matrix and taking matrix products and so on. Or, if you want a more efficient implementation \u2013\u00a0$\\mathcal{O}(n^2)$ instead of $\\mathcal{O}(n^3)$ \u2013 you can notice a few things:\n",
    "\n",
    "- If you expand out what $H K H$ does, you can easily implement it in quadratic time.\n",
    "- $\\Tr(A B) = \\sum_i ( A B )_{ii} = \\sum_i \\sum_j A_{ij} B_{ji}$, which you can easily implement in quadratic time."
   ]
  },
  {
   "cell_type": "code",
   "execution_count": null,
   "metadata": {
    "execution": {
     "iopub.execute_input": "2021-01-05T10:18:17.192460Z",
     "iopub.status.busy": "2021-01-05T10:18:17.192107Z",
     "iopub.status.idle": "2021-01-05T10:18:17.194317Z",
     "shell.execute_reply": "2021-01-05T10:18:17.193997Z"
    }
   },
   "outputs": [],
   "source": [
    "def _as_kernel_matrices(K, L):\n",
    "    if isinstance(K, LazyKernel):\n",
    "        K = K.XX\n",
    "    if isinstance(L, LazyKernel):\n",
    "        L = L.XX\n",
    "    K, L = as_tensors(K, L)\n",
    "    assert len(K.shape) == len(L.shape) == 2\n",
    "    assert K.shape[0] == K.shape[1] == L.shape[0] == L.shape[1]\n",
    "    return K, L"
   ]
  },
  {
   "cell_type": "code",
   "execution_count": null,
   "metadata": {
    "execution": {
     "iopub.execute_input": "2021-01-05T10:18:17.196387Z",
     "iopub.status.busy": "2021-01-05T10:18:17.196026Z",
     "iopub.status.idle": "2021-01-05T10:18:17.198301Z",
     "shell.execute_reply": "2021-01-05T10:18:17.197886Z"
    }
   },
   "outputs": [],
   "source": [
    "def hsic_est(K, L):\n",
    "    K, L = _as_kernel_matrices(K, L)\n",
    "    \n",
    "    # TODO: implement the HSIC estimator\n",
    "    return hsic"
   ]
  },
  {
   "cell_type": "markdown",
   "metadata": {},
   "source": [
    "To run a test, we'll also need to do permutations. Note that permutations are slightly different from before: we'll need to permute $K$ and $L$ *separately*, so that $\\{(x_i, y_i)\\}$ becomes $\\{(x_i, y_j)\\}$, and any possible dependence between them is broken.\n",
    "\n",
    "Here's some framework for computing permuations for the HSIC estimator. If you want to do it a faster way, go ahead."
   ]
  },
  {
   "cell_type": "code",
   "execution_count": null,
   "metadata": {
    "execution": {
     "iopub.execute_input": "2021-01-05T10:18:17.201143Z",
     "iopub.status.busy": "2021-01-05T10:18:17.200840Z",
     "iopub.status.idle": "2021-01-05T10:18:17.203168Z",
     "shell.execute_reply": "2021-01-05T10:18:17.202767Z"
    }
   },
   "outputs": [],
   "source": [
    "def hsic_permutations(K, L, num_permutations=1000, progress=True):\n",
    "    K, L = _as_kernel_matrices(K, L)\n",
    "\n",
    "    est = hsic_est(K, L)\n",
    "\n",
    "    range_ = range(num_permutations)\n",
    "    if progress:\n",
    "        range_ = tqdm(range_)\n",
    "    \n",
    "    stats = []\n",
    "    for i in range_:\n",
    "        pass # TODO: permute the entries of K and L and call hsic_est\n",
    "    \n",
    "    return two_sample_permutation_test(\n",
    "        mmd2_with_K, K.X, K.Y,\n",
    "        num_permutations=num_permutations, progress=progress)"
   ]
  },
  {
   "cell_type": "markdown",
   "metadata": {},
   "source": [
    "Let's try it on some simple data."
   ]
  },
  {
   "cell_type": "code",
   "execution_count": null,
   "metadata": {
    "execution": {
     "iopub.execute_input": "2021-01-05T10:18:17.212234Z",
     "iopub.status.busy": "2021-01-05T10:18:17.211955Z",
     "iopub.status.idle": "2021-01-05T10:18:17.214614Z",
     "shell.execute_reply": "2021-01-05T10:18:17.214856Z"
    }
   },
   "outputs": [],
   "source": [
    "with np.load('data/hsic.npz') as d:\n",
    "    X, Y = as_tensors(d['X'], d['Y'])"
   ]
  },
  {
   "cell_type": "code",
   "execution_count": null,
   "metadata": {
    "execution": {
     "iopub.execute_input": "2021-01-05T10:18:17.225427Z",
     "iopub.status.busy": "2021-01-05T10:18:17.224545Z",
     "iopub.status.idle": "2021-01-05T10:18:17.329784Z",
     "shell.execute_reply": "2021-01-05T10:18:17.330043Z"
    }
   },
   "outputs": [],
   "source": [
    "fig, ax = plt.subplots()\n",
    "ax.scatter(X, Y)"
   ]
  },
  {
   "cell_type": "markdown",
   "metadata": {},
   "source": [
    "Clearly, there is some very simple dependence going on.\n",
    "The first thing a statistician would do is of course to check for correlation."
   ]
  },
  {
   "cell_type": "code",
   "execution_count": null,
   "metadata": {
    "execution": {
     "iopub.execute_input": "2021-01-05T10:18:17.332591Z",
     "iopub.status.busy": "2021-01-05T10:18:17.332147Z",
     "iopub.status.idle": "2021-01-05T10:18:17.335198Z",
     "shell.execute_reply": "2021-01-05T10:18:17.335429Z"
    }
   },
   "outputs": [],
   "source": [
    "print(\"Correlation between X and Y:\", np.corrcoef(X, Y)[0,1])"
   ]
  },
  {
   "cell_type": "markdown",
   "metadata": {},
   "source": [
    "The correlation is very low.\n",
    "A kernel test for independence is more powerful, even with a bandwidth parameter chosen by the median heuristic.\n",
    "\n",
    "**Exercise:** Implement and visualize this test."
   ]
  },
  {
   "cell_type": "markdown",
   "metadata": {},
   "source": [
    "We're going to construct a string kernel, a  \"bag of words\" kernel between documents $s$ and $t$,\n",
    "\n",
    "$$\n",
    "k(s,t) = \\frac{1}{|\\mathcal{W}|} \\phi(s)^\\top \\phi(t)\n",
    "$$\n",
    "\n",
    "where $\\mathcal{W}$ consists of all words on all considered documents, and each element of $\\phi(x)\\in\\mathbb{N}^{|\\mathcal{W}|}$ contains the number of times that a particular word $w\\in\\mathcal{W}$ appears in $x$.\n",
    "\n",
    "Naturally, the kernel value will be larger, if a word appears in both documents many times.\n",
    "\n",
    "Efficient implementations of string kernels are rare (Shogun has many!), and often based on low-level dynamic programming concepts.\n",
    "Instead, we will here explicitly embed the documents into a feature space and compute (gram) matrix of inner products manually. \n",
    "Note that most string kernel implementations are much more efficient in computing the kernel since they don't do the feature space mapping explicitly."
   ]
  },
  {
   "cell_type": "code",
   "execution_count": null,
   "metadata": {
    "execution": {
     "iopub.execute_input": "2021-01-05T10:18:17.338370Z",
     "iopub.status.busy": "2021-01-05T10:18:17.338071Z",
     "iopub.status.idle": "2021-01-05T10:18:17.340212Z",
     "shell.execute_reply": "2021-01-05T10:18:17.339908Z"
    }
   },
   "outputs": [],
   "source": [
    "# stopwords, from nltk.corpus.stopwords\n",
    "with open('data/stopwords-english.txt') as f:\n",
    "    en_stop = {x.strip() for x in f}\n",
    "with open('data/stopwords-french.txt') as f:\n",
    "    fr_stop = {x.strip() for x in f}"
   ]
  },
  {
   "cell_type": "markdown",
   "metadata": {},
   "source": [
    "To make things faster, we're going to use the \"hashing trick\" to featurize this documents as bags of words \u2013\u00a0that is, each document is a count of how many times each unique word showed up. Rather than keeping track of a vocabulary, we use a hash function to map each word to a (probably) unique index."
   ]
  },
  {
   "cell_type": "code",
   "execution_count": null,
   "metadata": {
    "execution": {
     "iopub.execute_input": "2021-01-05T10:18:17.344792Z",
     "iopub.status.busy": "2021-01-05T10:18:17.344447Z",
     "iopub.status.idle": "2021-01-05T10:18:35.755650Z",
     "shell.execute_reply": "2021-01-05T10:18:35.755248Z"
    }
   },
   "outputs": [],
   "source": [
    "import re\n",
    "import tarfile\n",
    "from scipy import sparse\n",
    "\n",
    "en_feats = {}\n",
    "fr_feats = {}\n",
    "\n",
    "from sklearn.feature_extraction.text import HashingVectorizer\n",
    "en_vec = HashingVectorizer(\n",
    "    analyzer=\"word\", decode_error='replace', stop_words=en_stop,\n",
    ")\n",
    "fr_vec = HashingVectorizer(\n",
    "    analyzer=\"word\", decode_error='replace', stop_words=fr_stop,\n",
    ")\n",
    "\n",
    "with tarfile.open('data/transcripts.tar.bz2') as tar:\n",
    "    for info in tqdm(tar):\n",
    "        fname = info.name\n",
    "        is_french = fname.endswith(\"f\")\n",
    "        is_english = fname.endswith(\"e\")\n",
    "        if not (is_english or is_french):\n",
    "            continue\n",
    "        \n",
    "        with tar.extractfile(info) as f:\n",
    "            if is_english:\n",
    "                en_feats[fname] = en_vec.transform([f.read()])\n",
    "            else:\n",
    "                fr_feats[fname] = fr_vec.transform([f.read()])\n",
    "#             (en_vec if is_en)\n",
    "#             (X if is_english else Y).append(content)\n",
    "\n",
    "assert len(en_feats) == len(fr_feats)\n",
    "names = {k[:-1] for k in en_feats}\n",
    "\n",
    "X = sparse.vstack([en_feats[k + 'e'] for k in names])\n",
    "Y = sparse.vstack([fr_feats[k + 'f'] for k in names])"
   ]
  },
  {
   "cell_type": "markdown",
   "metadata": {},
   "source": [
    "Our features are enormous (and enormously sparse) matrices."
   ]
  },
  {
   "cell_type": "code",
   "execution_count": null,
   "metadata": {
    "execution": {
     "iopub.execute_input": "2021-01-05T10:18:35.758571Z",
     "iopub.status.busy": "2021-01-05T10:18:35.758203Z",
     "iopub.status.idle": "2021-01-05T10:18:35.760617Z",
     "shell.execute_reply": "2021-01-05T10:18:35.760905Z"
    }
   },
   "outputs": [],
   "source": [
    "X"
   ]
  },
  {
   "cell_type": "markdown",
   "metadata": {},
   "source": [
    "Now, our PyTorch infrastructure isn't going to like these matrices with 1 million columns. We're only going to use a linear kernel, though, so we can just compute the kernel ourselves. (You can convert from these sparse matrix classes to numpy arrays with `toarray()`, but do it *after* computing the kernel matrix to avoid trying to allocate an enormous dense array:"
   ]
  },
  {
   "cell_type": "code",
   "execution_count": null,
   "metadata": {
    "execution": {
     "iopub.execute_input": "2021-01-05T10:18:35.763336Z",
     "iopub.status.busy": "2021-01-05T10:18:35.763054Z",
     "iopub.status.idle": "2021-01-05T10:18:36.727650Z",
     "shell.execute_reply": "2021-01-05T10:18:36.727327Z"
    }
   },
   "outputs": [],
   "source": [
    "# TODO: compute kernels\n",
    "K_XX = (\n",
    "    # ...\n",
    ").toarray().astype(np.float32)\n",
    "K_YY = (\n",
    "    # ...\n",
    ").toarray().astype(np.float32)"
   ]
  },
  {
   "cell_type": "code",
   "execution_count": null,
   "metadata": {
    "execution": {
     "iopub.execute_input": "2021-01-05T10:18:36.729491Z",
     "iopub.status.busy": "2021-01-05T10:18:36.729221Z",
     "iopub.status.idle": "2021-01-05T10:18:36.731402Z",
     "shell.execute_reply": "2021-01-05T10:18:36.731095Z"
    }
   },
   "outputs": [],
   "source": [
    "# TODO: run the HSIC test with these kernels"
   ]
  },
  {
   "cell_type": "markdown",
   "metadata": {},
   "source": [
    "We can clearly see that the English and French documents are not independent."
   ]
  }
 ],
 "metadata": {
  "kernelspec": {
   "display_name": "Python 3",
   "language": "python",
   "name": "python3"
  },
  "language_info": {
   "codemirror_mode": {
    "name": "ipython",
    "version": 3
   },
   "file_extension": ".py",
   "mimetype": "text/x-python",
   "name": "python",
   "nbconvert_exporter": "python",
   "pygments_lexer": "ipython3",
   "version": "3.8.5"
  },
  "widgets": {
   "application/vnd.jupyter.widget-state+json": {
    "state": {
     "05173cc564df4263818a5e98f767d3fc": {
      "model_module": "@jupyter-widgets/controls",
      "model_module_version": "1.5.0",
      "model_name": "HBoxModel",
      "state": {
       "_dom_classes": [],
       "_model_module": "@jupyter-widgets/controls",
       "_model_module_version": "1.5.0",
       "_model_name": "HBoxModel",
       "_view_count": null,
       "_view_module": "@jupyter-widgets/controls",
       "_view_module_version": "1.5.0",
       "_view_name": "HBoxView",
       "box_style": "",
       "children": [
        "IPY_MODEL_0a52bde439d3445fa516e6b1482a98e4",
        "IPY_MODEL_859f8f2617b4433c9586e49c43e630f4",
        "IPY_MODEL_dd547a6ab4e74b61b95278c938ae85ef"
       ],
       "layout": "IPY_MODEL_b0eb26364adc45678d21c410a3db6cb2"
      }
     },
     "051ec26d414248b6b55636ead001abc8": {
      "model_module": "@jupyter-widgets/controls",
      "model_module_version": "1.5.0",
      "model_name": "FloatProgressModel",
      "state": {
       "_dom_classes": [],
       "_model_module": "@jupyter-widgets/controls",
       "_model_module_version": "1.5.0",
       "_model_name": "FloatProgressModel",
       "_view_count": null,
       "_view_module": "@jupyter-widgets/controls",
       "_view_module_version": "1.5.0",
       "_view_name": "ProgressView",
       "bar_style": "success",
       "description": "",
       "description_tooltip": null,
       "layout": "IPY_MODEL_c113429c906b4d37932b3ed4f128afe8",
       "max": 1000.0,
       "min": 0.0,
       "orientation": "horizontal",
       "style": "IPY_MODEL_ac9635096cdd49499cffd863b3f962a8",
       "value": 1000.0
      }
     },
     "05b9f745702945cea513b7ee2e7188e8": {
      "model_module": "@jupyter-widgets/base",
      "model_module_version": "1.2.0",
      "model_name": "LayoutModel",
      "state": {
       "_model_module": "@jupyter-widgets/base",
       "_model_module_version": "1.2.0",
       "_model_name": "LayoutModel",
       "_view_count": null,
       "_view_module": "@jupyter-widgets/base",
       "_view_module_version": "1.2.0",
       "_view_name": "LayoutView",
       "align_content": null,
       "align_items": null,
       "align_self": null,
       "border": null,
       "bottom": null,
       "display": null,
       "flex": null,
       "flex_flow": null,
       "grid_area": null,
       "grid_auto_columns": null,
       "grid_auto_flow": null,
       "grid_auto_rows": null,
       "grid_column": null,
       "grid_gap": null,
       "grid_row": null,
       "grid_template_areas": null,
       "grid_template_columns": null,
       "grid_template_rows": null,
       "height": null,
       "justify_content": null,
       "justify_items": null,
       "left": null,
       "margin": null,
       "max_height": null,
       "max_width": null,
       "min_height": null,
       "min_width": null,
       "object_fit": null,
       "object_position": null,
       "order": null,
       "overflow": null,
       "overflow_x": null,
       "overflow_y": null,
       "padding": null,
       "right": null,
       "top": null,
       "visibility": null,
       "width": null
      }
     },
     "078d74aea2dc4b179ff749dec16f1f4e": {
      "model_module": "@jupyter-widgets/controls",
      "model_module_version": "1.5.0",
      "model_name": "DescriptionStyleModel",
      "state": {
       "_model_module": "@jupyter-widgets/controls",
       "_model_module_version": "1.5.0",
       "_model_name": "DescriptionStyleModel",
       "_view_count": null,
       "_view_module": "@jupyter-widgets/base",
       "_view_module_version": "1.2.0",
       "_view_name": "StyleView",
       "description_width": ""
      }
     },
     "08da98311fd543f9a6a1db9ebdbc615f": {
      "model_module": "@jupyter-widgets/base",
      "model_module_version": "1.2.0",
      "model_name": "LayoutModel",
      "state": {
       "_model_module": "@jupyter-widgets/base",
       "_model_module_version": "1.2.0",
       "_model_name": "LayoutModel",
       "_view_count": null,
       "_view_module": "@jupyter-widgets/base",
       "_view_module_version": "1.2.0",
       "_view_name": "LayoutView",
       "align_content": null,
       "align_items": null,
       "align_self": null,
       "border": null,
       "bottom": null,
       "display": null,
       "flex": null,
       "flex_flow": null,
       "grid_area": null,
       "grid_auto_columns": null,
       "grid_auto_flow": null,
       "grid_auto_rows": null,
       "grid_column": null,
       "grid_gap": null,
       "grid_row": null,
       "grid_template_areas": null,
       "grid_template_columns": null,
       "grid_template_rows": null,
       "height": null,
       "justify_content": null,
       "justify_items": null,
       "left": null,
       "margin": null,
       "max_height": null,
       "max_width": null,
       "min_height": null,
       "min_width": null,
       "object_fit": null,
       "object_position": null,
       "order": null,
       "overflow": null,
       "overflow_x": null,
       "overflow_y": null,
       "padding": null,
       "right": null,
       "top": null,
       "visibility": null,
       "width": null
      }
     },
     "0983e23014574d5895de3fe9785df948": {
      "model_module": "@jupyter-widgets/controls",
      "model_module_version": "1.5.0",
      "model_name": "ProgressStyleModel",
      "state": {
       "_model_module": "@jupyter-widgets/controls",
       "_model_module_version": "1.5.0",
       "_model_name": "ProgressStyleModel",
       "_view_count": null,
       "_view_module": "@jupyter-widgets/base",
       "_view_module_version": "1.2.0",
       "_view_name": "StyleView",
       "bar_color": null,
       "description_width": ""
      }
     },
     "0a38095aefec47fdb34a87d8f77766fd": {
      "model_module": "@jupyter-widgets/base",
      "model_module_version": "1.2.0",
      "model_name": "LayoutModel",
      "state": {
       "_model_module": "@jupyter-widgets/base",
       "_model_module_version": "1.2.0",
       "_model_name": "LayoutModel",
       "_view_count": null,
       "_view_module": "@jupyter-widgets/base",
       "_view_module_version": "1.2.0",
       "_view_name": "LayoutView",
       "align_content": null,
       "align_items": null,
       "align_self": null,
       "border": null,
       "bottom": null,
       "display": null,
       "flex": null,
       "flex_flow": null,
       "grid_area": null,
       "grid_auto_columns": null,
       "grid_auto_flow": null,
       "grid_auto_rows": null,
       "grid_column": null,
       "grid_gap": null,
       "grid_row": null,
       "grid_template_areas": null,
       "grid_template_columns": null,
       "grid_template_rows": null,
       "height": null,
       "justify_content": null,
       "justify_items": null,
       "left": null,
       "margin": null,
       "max_height": null,
       "max_width": null,
       "min_height": null,
       "min_width": null,
       "object_fit": null,
       "object_position": null,
       "order": null,
       "overflow": null,
       "overflow_x": null,
       "overflow_y": null,
       "padding": null,
       "right": null,
       "top": null,
       "visibility": null,
       "width": null
      }
     },
     "0a52bde439d3445fa516e6b1482a98e4": {
      "model_module": "@jupyter-widgets/controls",
      "model_module_version": "1.5.0",
      "model_name": "HTMLModel",
      "state": {
       "_dom_classes": [],
       "_model_module": "@jupyter-widgets/controls",
       "_model_module_version": "1.5.0",
       "_model_name": "HTMLModel",
       "_view_count": null,
       "_view_module": "@jupyter-widgets/controls",
       "_view_module_version": "1.5.0",
       "_view_name": "HTMLView",
       "description": "",
       "description_tooltip": null,
       "layout": "IPY_MODEL_f6a80abd2f8846c9a6a0a5fdf03be8f6",
       "placeholder": "\u200b",
       "style": "IPY_MODEL_6ca50bc78e3846b199e1edab77488410",
       "value": "100%"
      }
     },
     "0d99c5631b854215a1e21e5430c76c9b": {
      "model_module": "@jupyter-widgets/controls",
      "model_module_version": "1.5.0",
      "model_name": "HBoxModel",
      "state": {
       "_dom_classes": [],
       "_model_module": "@jupyter-widgets/controls",
       "_model_module_version": "1.5.0",
       "_model_name": "HBoxModel",
       "_view_count": null,
       "_view_module": "@jupyter-widgets/controls",
       "_view_module_version": "1.5.0",
       "_view_name": "HBoxView",
       "box_style": "",
       "children": [
        "IPY_MODEL_dc02361e037c4c04a9e191c6760ce9b1",
        "IPY_MODEL_41c33bea604546d296edf7ea3de439a4",
        "IPY_MODEL_fd2583f35c1a477ca39b7c046bdf4e8a"
       ],
       "layout": "IPY_MODEL_65dc7bd6b2704c15bb8867e95ee92ac4"
      }
     },
     "10f16ca21b524c058405ec3a7320b885": {
      "model_module": "@jupyter-widgets/base",
      "model_module_version": "1.2.0",
      "model_name": "LayoutModel",
      "state": {
       "_model_module": "@jupyter-widgets/base",
       "_model_module_version": "1.2.0",
       "_model_name": "LayoutModel",
       "_view_count": null,
       "_view_module": "@jupyter-widgets/base",
       "_view_module_version": "1.2.0",
       "_view_name": "LayoutView",
       "align_content": null,
       "align_items": null,
       "align_self": null,
       "border": null,
       "bottom": null,
       "display": null,
       "flex": null,
       "flex_flow": null,
       "grid_area": null,
       "grid_auto_columns": null,
       "grid_auto_flow": null,
       "grid_auto_rows": null,
       "grid_column": null,
       "grid_gap": null,
       "grid_row": null,
       "grid_template_areas": null,
       "grid_template_columns": null,
       "grid_template_rows": null,
       "height": null,
       "justify_content": null,
       "justify_items": null,
       "left": null,
       "margin": null,
       "max_height": null,
       "max_width": null,
       "min_height": null,
       "min_width": null,
       "object_fit": null,
       "object_position": null,
       "order": null,
       "overflow": null,
       "overflow_x": null,
       "overflow_y": null,
       "padding": null,
       "right": null,
       "top": null,
       "visibility": null,
       "width": null
      }
     },
     "111ba54aeb3340c7b040bee292932819": {
      "model_module": "@jupyter-widgets/controls",
      "model_module_version": "1.5.0",
      "model_name": "DescriptionStyleModel",
      "state": {
       "_model_module": "@jupyter-widgets/controls",
       "_model_module_version": "1.5.0",
       "_model_name": "DescriptionStyleModel",
       "_view_count": null,
       "_view_module": "@jupyter-widgets/base",
       "_view_module_version": "1.2.0",
       "_view_name": "StyleView",
       "description_width": ""
      }
     },
     "18a5d792f8ca4658a9b73190ef848c07": {
      "model_module": "@jupyter-widgets/controls",
      "model_module_version": "1.5.0",
      "model_name": "HBoxModel",
      "state": {
       "_dom_classes": [],
       "_model_module": "@jupyter-widgets/controls",
       "_model_module_version": "1.5.0",
       "_model_name": "HBoxModel",
       "_view_count": null,
       "_view_module": "@jupyter-widgets/controls",
       "_view_module_version": "1.5.0",
       "_view_name": "HBoxView",
       "box_style": "",
       "children": [
        "IPY_MODEL_70b02639d4ab4e5cb77a661eeb817397",
        "IPY_MODEL_051ec26d414248b6b55636ead001abc8",
        "IPY_MODEL_fddd27e310364fea8e5f2173e9d94a00"
       ],
       "layout": "IPY_MODEL_10f16ca21b524c058405ec3a7320b885"
      }
     },
     "1bd369821609472d829cff2b69bb09bd": {
      "model_module": "@jupyter-widgets/controls",
      "model_module_version": "1.5.0",
      "model_name": "HTMLModel",
      "state": {
       "_dom_classes": [],
       "_model_module": "@jupyter-widgets/controls",
       "_model_module_version": "1.5.0",
       "_model_name": "HTMLModel",
       "_view_count": null,
       "_view_module": "@jupyter-widgets/controls",
       "_view_module_version": "1.5.0",
       "_view_name": "HTMLView",
       "description": "",
       "description_tooltip": null,
       "layout": "IPY_MODEL_c5c434e80a084ee7b49f1e8fd8efdb19",
       "placeholder": "\u200b",
       "style": "IPY_MODEL_111ba54aeb3340c7b040bee292932819",
       "value": " 1000/1000 [00:01&lt;00:00, 797.46it/s]"
      }
     },
     "222286cc6669415caeed6b0b96adb0d5": {
      "model_module": "@jupyter-widgets/base",
      "model_module_version": "1.2.0",
      "model_name": "LayoutModel",
      "state": {
       "_model_module": "@jupyter-widgets/base",
       "_model_module_version": "1.2.0",
       "_model_name": "LayoutModel",
       "_view_count": null,
       "_view_module": "@jupyter-widgets/base",
       "_view_module_version": "1.2.0",
       "_view_name": "LayoutView",
       "align_content": null,
       "align_items": null,
       "align_self": null,
       "border": null,
       "bottom": null,
       "display": null,
       "flex": null,
       "flex_flow": null,
       "grid_area": null,
       "grid_auto_columns": null,
       "grid_auto_flow": null,
       "grid_auto_rows": null,
       "grid_column": null,
       "grid_gap": null,
       "grid_row": null,
       "grid_template_areas": null,
       "grid_template_columns": null,
       "grid_template_rows": null,
       "height": null,
       "justify_content": null,
       "justify_items": null,
       "left": null,
       "margin": null,
       "max_height": null,
       "max_width": null,
       "min_height": null,
       "min_width": null,
       "object_fit": null,
       "object_position": null,
       "order": null,
       "overflow": null,
       "overflow_x": null,
       "overflow_y": null,
       "padding": null,
       "right": null,
       "top": null,
       "visibility": null,
       "width": null
      }
     },
     "22386cc0e18f4ae786fc422ccca3548d": {
      "model_module": "@jupyter-widgets/controls",
      "model_module_version": "1.5.0",
      "model_name": "ProgressStyleModel",
      "state": {
       "_model_module": "@jupyter-widgets/controls",
       "_model_module_version": "1.5.0",
       "_model_name": "ProgressStyleModel",
       "_view_count": null,
       "_view_module": "@jupyter-widgets/base",
       "_view_module_version": "1.2.0",
       "_view_name": "StyleView",
       "bar_color": null,
       "description_width": ""
      }
     },
     "2744a4fb114f48708f064bfc13bc0038": {
      "model_module": "@jupyter-widgets/controls",
      "model_module_version": "1.5.0",
      "model_name": "DescriptionStyleModel",
      "state": {
       "_model_module": "@jupyter-widgets/controls",
       "_model_module_version": "1.5.0",
       "_model_name": "DescriptionStyleModel",
       "_view_count": null,
       "_view_module": "@jupyter-widgets/base",
       "_view_module_version": "1.2.0",
       "_view_name": "StyleView",
       "description_width": ""
      }
     },
     "2b56d8061ff3449792fce529fc331ff3": {
      "model_module": "@jupyter-widgets/controls",
      "model_module_version": "1.5.0",
      "model_name": "ProgressStyleModel",
      "state": {
       "_model_module": "@jupyter-widgets/controls",
       "_model_module_version": "1.5.0",
       "_model_name": "ProgressStyleModel",
       "_view_count": null,
       "_view_module": "@jupyter-widgets/base",
       "_view_module_version": "1.2.0",
       "_view_name": "StyleView",
       "bar_color": null,
       "description_width": ""
      }
     },
     "2ebf81f80aed483f836d7e57878ae85d": {
      "model_module": "@jupyter-widgets/base",
      "model_module_version": "1.2.0",
      "model_name": "LayoutModel",
      "state": {
       "_model_module": "@jupyter-widgets/base",
       "_model_module_version": "1.2.0",
       "_model_name": "LayoutModel",
       "_view_count": null,
       "_view_module": "@jupyter-widgets/base",
       "_view_module_version": "1.2.0",
       "_view_name": "LayoutView",
       "align_content": null,
       "align_items": null,
       "align_self": null,
       "border": null,
       "bottom": null,
       "display": null,
       "flex": null,
       "flex_flow": null,
       "grid_area": null,
       "grid_auto_columns": null,
       "grid_auto_flow": null,
       "grid_auto_rows": null,
       "grid_column": null,
       "grid_gap": null,
       "grid_row": null,
       "grid_template_areas": null,
       "grid_template_columns": null,
       "grid_template_rows": null,
       "height": null,
       "justify_content": null,
       "justify_items": null,
       "left": null,
       "margin": null,
       "max_height": null,
       "max_width": null,
       "min_height": null,
       "min_width": null,
       "object_fit": null,
       "object_position": null,
       "order": null,
       "overflow": null,
       "overflow_x": null,
       "overflow_y": null,
       "padding": null,
       "right": null,
       "top": null,
       "visibility": null,
       "width": null
      }
     },
     "2f37533a89b744519e34dd7097aee644": {
      "model_module": "@jupyter-widgets/controls",
      "model_module_version": "1.5.0",
      "model_name": "FloatProgressModel",
      "state": {
       "_dom_classes": [],
       "_model_module": "@jupyter-widgets/controls",
       "_model_module_version": "1.5.0",
       "_model_name": "FloatProgressModel",
       "_view_count": null,
       "_view_module": "@jupyter-widgets/controls",
       "_view_module_version": "1.5.0",
       "_view_name": "ProgressView",
       "bar_style": "success",
       "description": "",
       "description_tooltip": null,
       "layout": "IPY_MODEL_b2db84754d53404587f5f30b0224156a",
       "max": 500.0,
       "min": 0.0,
       "orientation": "horizontal",
       "style": "IPY_MODEL_be95f084eedf498f9244afa04e651f6e",
       "value": 500.0
      }
     },
     "30f3a43b021f44b7b04688791c5c2efd": {
      "model_module": "@jupyter-widgets/controls",
      "model_module_version": "1.5.0",
      "model_name": "HTMLModel",
      "state": {
       "_dom_classes": [],
       "_model_module": "@jupyter-widgets/controls",
       "_model_module_version": "1.5.0",
       "_model_name": "HTMLModel",
       "_view_count": null,
       "_view_module": "@jupyter-widgets/controls",
       "_view_module_version": "1.5.0",
       "_view_name": "HTMLView",
       "description": "",
       "description_tooltip": null,
       "layout": "IPY_MODEL_48aa10af8a6747448d46ac0456e85be9",
       "placeholder": "\u200b",
       "style": "IPY_MODEL_88ea7693407e4bd398dc3860a752d67d",
       "value": "100%"
      }
     },
     "34b62ba6acf04bcdb41ec79fee260d04": {
      "model_module": "@jupyter-widgets/controls",
      "model_module_version": "1.5.0",
      "model_name": "HTMLModel",
      "state": {
       "_dom_classes": [],
       "_model_module": "@jupyter-widgets/controls",
       "_model_module_version": "1.5.0",
       "_model_name": "HTMLModel",
       "_view_count": null,
       "_view_module": "@jupyter-widgets/controls",
       "_view_module_version": "1.5.0",
       "_view_name": "HTMLView",
       "description": "",
       "description_tooltip": null,
       "layout": "IPY_MODEL_fb60fe58293648db818ba205ffdbde99",
       "placeholder": "\u200b",
       "style": "IPY_MODEL_078d74aea2dc4b179ff749dec16f1f4e",
       "value": " 500/500 [00:00&lt;00:00, 13643.21it/s]"
      }
     },
     "358a5c4cc8034e9b82ccb5ce30d2324e": {
      "model_module": "@jupyter-widgets/base",
      "model_module_version": "1.2.0",
      "model_name": "LayoutModel",
      "state": {
       "_model_module": "@jupyter-widgets/base",
       "_model_module_version": "1.2.0",
       "_model_name": "LayoutModel",
       "_view_count": null,
       "_view_module": "@jupyter-widgets/base",
       "_view_module_version": "1.2.0",
       "_view_name": "LayoutView",
       "align_content": null,
       "align_items": null,
       "align_self": null,
       "border": null,
       "bottom": null,
       "display": null,
       "flex": null,
       "flex_flow": null,
       "grid_area": null,
       "grid_auto_columns": null,
       "grid_auto_flow": null,
       "grid_auto_rows": null,
       "grid_column": null,
       "grid_gap": null,
       "grid_row": null,
       "grid_template_areas": null,
       "grid_template_columns": null,
       "grid_template_rows": null,
       "height": null,
       "justify_content": null,
       "justify_items": null,
       "left": null,
       "margin": null,
       "max_height": null,
       "max_width": null,
       "min_height": null,
       "min_width": null,
       "object_fit": null,
       "object_position": null,
       "order": null,
       "overflow": null,
       "overflow_x": null,
       "overflow_y": null,
       "padding": null,
       "right": null,
       "top": null,
       "visibility": null,
       "width": "20px"
      }
     },
     "3b4610e17dd84f65a2cec6ce799807ed": {
      "model_module": "@jupyter-widgets/controls",
      "model_module_version": "1.5.0",
      "model_name": "HTMLModel",
      "state": {
       "_dom_classes": [],
       "_model_module": "@jupyter-widgets/controls",
       "_model_module_version": "1.5.0",
       "_model_name": "HTMLModel",
       "_view_count": null,
       "_view_module": "@jupyter-widgets/controls",
       "_view_module_version": "1.5.0",
       "_view_name": "HTMLView",
       "description": "",
       "description_tooltip": null,
       "layout": "IPY_MODEL_8ed70084c4f848be9a9e9f7cfec81953",
       "placeholder": "\u200b",
       "style": "IPY_MODEL_8007623f418d4b098184343f85b15791",
       "value": "100%"
      }
     },
     "3d5f30da846343c29f591e959fc629ab": {
      "model_module": "@jupyter-widgets/base",
      "model_module_version": "1.2.0",
      "model_name": "LayoutModel",
      "state": {
       "_model_module": "@jupyter-widgets/base",
       "_model_module_version": "1.2.0",
       "_model_name": "LayoutModel",
       "_view_count": null,
       "_view_module": "@jupyter-widgets/base",
       "_view_module_version": "1.2.0",
       "_view_name": "LayoutView",
       "align_content": null,
       "align_items": null,
       "align_self": null,
       "border": null,
       "bottom": null,
       "display": null,
       "flex": null,
       "flex_flow": null,
       "grid_area": null,
       "grid_auto_columns": null,
       "grid_auto_flow": null,
       "grid_auto_rows": null,
       "grid_column": null,
       "grid_gap": null,
       "grid_row": null,
       "grid_template_areas": null,
       "grid_template_columns": null,
       "grid_template_rows": null,
       "height": null,
       "justify_content": null,
       "justify_items": null,
       "left": null,
       "margin": null,
       "max_height": null,
       "max_width": null,
       "min_height": null,
       "min_width": null,
       "object_fit": null,
       "object_position": null,
       "order": null,
       "overflow": null,
       "overflow_x": null,
       "overflow_y": null,
       "padding": null,
       "right": null,
       "top": null,
       "visibility": null,
       "width": null
      }
     },
     "40a8c99c21d5437e917d433238cc7023": {
      "model_module": "@jupyter-widgets/controls",
      "model_module_version": "1.5.0",
      "model_name": "HBoxModel",
      "state": {
       "_dom_classes": [],
       "_model_module": "@jupyter-widgets/controls",
       "_model_module_version": "1.5.0",
       "_model_name": "HBoxModel",
       "_view_count": null,
       "_view_module": "@jupyter-widgets/controls",
       "_view_module_version": "1.5.0",
       "_view_name": "HBoxView",
       "box_style": "",
       "children": [
        "IPY_MODEL_66d454a9f1ce4463ac3579ca3788d62a",
        "IPY_MODEL_2f37533a89b744519e34dd7097aee644",
        "IPY_MODEL_34b62ba6acf04bcdb41ec79fee260d04"
       ],
       "layout": "IPY_MODEL_a01ad07619f5421287e0d023aaf661f4"
      }
     },
     "40aeb369dfb540e9ab40b59ab0cc0a6b": {
      "model_module": "@jupyter-widgets/base",
      "model_module_version": "1.2.0",
      "model_name": "LayoutModel",
      "state": {
       "_model_module": "@jupyter-widgets/base",
       "_model_module_version": "1.2.0",
       "_model_name": "LayoutModel",
       "_view_count": null,
       "_view_module": "@jupyter-widgets/base",
       "_view_module_version": "1.2.0",
       "_view_name": "LayoutView",
       "align_content": null,
       "align_items": null,
       "align_self": null,
       "border": null,
       "bottom": null,
       "display": null,
       "flex": null,
       "flex_flow": null,
       "grid_area": null,
       "grid_auto_columns": null,
       "grid_auto_flow": null,
       "grid_auto_rows": null,
       "grid_column": null,
       "grid_gap": null,
       "grid_row": null,
       "grid_template_areas": null,
       "grid_template_columns": null,
       "grid_template_rows": null,
       "height": null,
       "justify_content": null,
       "justify_items": null,
       "left": null,
       "margin": null,
       "max_height": null,
       "max_width": null,
       "min_height": null,
       "min_width": null,
       "object_fit": null,
       "object_position": null,
       "order": null,
       "overflow": null,
       "overflow_x": null,
       "overflow_y": null,
       "padding": null,
       "right": null,
       "top": null,
       "visibility": null,
       "width": null
      }
     },
     "41c33bea604546d296edf7ea3de439a4": {
      "model_module": "@jupyter-widgets/controls",
      "model_module_version": "1.5.0",
      "model_name": "FloatProgressModel",
      "state": {
       "_dom_classes": [],
       "_model_module": "@jupyter-widgets/controls",
       "_model_module_version": "1.5.0",
       "_model_name": "FloatProgressModel",
       "_view_count": null,
       "_view_module": "@jupyter-widgets/controls",
       "_view_module_version": "1.5.0",
       "_view_name": "ProgressView",
       "bar_style": "success",
       "description": "",
       "description_tooltip": null,
       "layout": "IPY_MODEL_358a5c4cc8034e9b82ccb5ce30d2324e",
       "max": 1.0,
       "min": 0.0,
       "orientation": "horizontal",
       "style": "IPY_MODEL_ef3fae332b404bb5b7fa9e9b9e8682fa",
       "value": 1.0
      }
     },
     "42176c60d5d646929f9c3c3d275ddb28": {
      "model_module": "@jupyter-widgets/controls",
      "model_module_version": "1.5.0",
      "model_name": "HTMLModel",
      "state": {
       "_dom_classes": [],
       "_model_module": "@jupyter-widgets/controls",
       "_model_module_version": "1.5.0",
       "_model_name": "HTMLModel",
       "_view_count": null,
       "_view_module": "@jupyter-widgets/controls",
       "_view_module_version": "1.5.0",
       "_view_name": "HTMLView",
       "description": "",
       "description_tooltip": null,
       "layout": "IPY_MODEL_49ab1aaa37fc4f1388801825f2e90d8a",
       "placeholder": "\u200b",
       "style": "IPY_MODEL_90afaba72d10413b94e5bdd8c76f140d",
       "value": "100%"
      }
     },
     "438eb53a81bb47c683481679cc42e88a": {
      "model_module": "@jupyter-widgets/base",
      "model_module_version": "1.2.0",
      "model_name": "LayoutModel",
      "state": {
       "_model_module": "@jupyter-widgets/base",
       "_model_module_version": "1.2.0",
       "_model_name": "LayoutModel",
       "_view_count": null,
       "_view_module": "@jupyter-widgets/base",
       "_view_module_version": "1.2.0",
       "_view_name": "LayoutView",
       "align_content": null,
       "align_items": null,
       "align_self": null,
       "border": null,
       "bottom": null,
       "display": null,
       "flex": null,
       "flex_flow": null,
       "grid_area": null,
       "grid_auto_columns": null,
       "grid_auto_flow": null,
       "grid_auto_rows": null,
       "grid_column": null,
       "grid_gap": null,
       "grid_row": null,
       "grid_template_areas": null,
       "grid_template_columns": null,
       "grid_template_rows": null,
       "height": null,
       "justify_content": null,
       "justify_items": null,
       "left": null,
       "margin": null,
       "max_height": null,
       "max_width": null,
       "min_height": null,
       "min_width": null,
       "object_fit": null,
       "object_position": null,
       "order": null,
       "overflow": null,
       "overflow_x": null,
       "overflow_y": null,
       "padding": null,
       "right": null,
       "top": null,
       "visibility": null,
       "width": null
      }
     },
     "43b51917faef4834917541ce8eb2d837": {
      "model_module": "@jupyter-widgets/base",
      "model_module_version": "1.2.0",
      "model_name": "LayoutModel",
      "state": {
       "_model_module": "@jupyter-widgets/base",
       "_model_module_version": "1.2.0",
       "_model_name": "LayoutModel",
       "_view_count": null,
       "_view_module": "@jupyter-widgets/base",
       "_view_module_version": "1.2.0",
       "_view_name": "LayoutView",
       "align_content": null,
       "align_items": null,
       "align_self": null,
       "border": null,
       "bottom": null,
       "display": null,
       "flex": null,
       "flex_flow": null,
       "grid_area": null,
       "grid_auto_columns": null,
       "grid_auto_flow": null,
       "grid_auto_rows": null,
       "grid_column": null,
       "grid_gap": null,
       "grid_row": null,
       "grid_template_areas": null,
       "grid_template_columns": null,
       "grid_template_rows": null,
       "height": null,
       "justify_content": null,
       "justify_items": null,
       "left": null,
       "margin": null,
       "max_height": null,
       "max_width": null,
       "min_height": null,
       "min_width": null,
       "object_fit": null,
       "object_position": null,
       "order": null,
       "overflow": null,
       "overflow_x": null,
       "overflow_y": null,
       "padding": null,
       "right": null,
       "top": null,
       "visibility": null,
       "width": null
      }
     },
     "466003b039d84d77bce1cd6e860d00c6": {
      "model_module": "@jupyter-widgets/controls",
      "model_module_version": "1.5.0",
      "model_name": "HTMLModel",
      "state": {
       "_dom_classes": [],
       "_model_module": "@jupyter-widgets/controls",
       "_model_module_version": "1.5.0",
       "_model_name": "HTMLModel",
       "_view_count": null,
       "_view_module": "@jupyter-widgets/controls",
       "_view_module_version": "1.5.0",
       "_view_name": "HTMLView",
       "description": "",
       "description_tooltip": null,
       "layout": "IPY_MODEL_222286cc6669415caeed6b0b96adb0d5",
       "placeholder": "\u200b",
       "style": "IPY_MODEL_a30df7e951e74c7c98348af32c61c815",
       "value": " 1000/1000 [00:00&lt;00:00, 9957.33it/s]"
      }
     },
     "48aa10af8a6747448d46ac0456e85be9": {
      "model_module": "@jupyter-widgets/base",
      "model_module_version": "1.2.0",
      "model_name": "LayoutModel",
      "state": {
       "_model_module": "@jupyter-widgets/base",
       "_model_module_version": "1.2.0",
       "_model_name": "LayoutModel",
       "_view_count": null,
       "_view_module": "@jupyter-widgets/base",
       "_view_module_version": "1.2.0",
       "_view_name": "LayoutView",
       "align_content": null,
       "align_items": null,
       "align_self": null,
       "border": null,
       "bottom": null,
       "display": null,
       "flex": null,
       "flex_flow": null,
       "grid_area": null,
       "grid_auto_columns": null,
       "grid_auto_flow": null,
       "grid_auto_rows": null,
       "grid_column": null,
       "grid_gap": null,
       "grid_row": null,
       "grid_template_areas": null,
       "grid_template_columns": null,
       "grid_template_rows": null,
       "height": null,
       "justify_content": null,
       "justify_items": null,
       "left": null,
       "margin": null,
       "max_height": null,
       "max_width": null,
       "min_height": null,
       "min_width": null,
       "object_fit": null,
       "object_position": null,
       "order": null,
       "overflow": null,
       "overflow_x": null,
       "overflow_y": null,
       "padding": null,
       "right": null,
       "top": null,
       "visibility": null,
       "width": null
      }
     },
     "49ab1aaa37fc4f1388801825f2e90d8a": {
      "model_module": "@jupyter-widgets/base",
      "model_module_version": "1.2.0",
      "model_name": "LayoutModel",
      "state": {
       "_model_module": "@jupyter-widgets/base",
       "_model_module_version": "1.2.0",
       "_model_name": "LayoutModel",
       "_view_count": null,
       "_view_module": "@jupyter-widgets/base",
       "_view_module_version": "1.2.0",
       "_view_name": "LayoutView",
       "align_content": null,
       "align_items": null,
       "align_self": null,
       "border": null,
       "bottom": null,
       "display": null,
       "flex": null,
       "flex_flow": null,
       "grid_area": null,
       "grid_auto_columns": null,
       "grid_auto_flow": null,
       "grid_auto_rows": null,
       "grid_column": null,
       "grid_gap": null,
       "grid_row": null,
       "grid_template_areas": null,
       "grid_template_columns": null,
       "grid_template_rows": null,
       "height": null,
       "justify_content": null,
       "justify_items": null,
       "left": null,
       "margin": null,
       "max_height": null,
       "max_width": null,
       "min_height": null,
       "min_width": null,
       "object_fit": null,
       "object_position": null,
       "order": null,
       "overflow": null,
       "overflow_x": null,
       "overflow_y": null,
       "padding": null,
       "right": null,
       "top": null,
       "visibility": null,
       "width": null
      }
     },
     "49c168573d114e3c9eafe52d2bfe07f6": {
      "model_module": "@jupyter-widgets/controls",
      "model_module_version": "1.5.0",
      "model_name": "HTMLModel",
      "state": {
       "_dom_classes": [],
       "_model_module": "@jupyter-widgets/controls",
       "_model_module_version": "1.5.0",
       "_model_name": "HTMLModel",
       "_view_count": null,
       "_view_module": "@jupyter-widgets/controls",
       "_view_module_version": "1.5.0",
       "_view_name": "HTMLView",
       "description": "",
       "description_tooltip": null,
       "layout": "IPY_MODEL_c4d4f9a6fd974699a7e1e0d167a9a199",
       "placeholder": "\u200b",
       "style": "IPY_MODEL_5f32c0e763134c79ac97f8546639beb1",
       "value": " 1000/1000 [00:00&lt;00:00, 1441.86it/s]"
      }
     },
     "4d2693fab088499da3b9b88cae8d2b75": {
      "model_module": "@jupyter-widgets/base",
      "model_module_version": "1.2.0",
      "model_name": "LayoutModel",
      "state": {
       "_model_module": "@jupyter-widgets/base",
       "_model_module_version": "1.2.0",
       "_model_name": "LayoutModel",
       "_view_count": null,
       "_view_module": "@jupyter-widgets/base",
       "_view_module_version": "1.2.0",
       "_view_name": "LayoutView",
       "align_content": null,
       "align_items": null,
       "align_self": null,
       "border": null,
       "bottom": null,
       "display": null,
       "flex": null,
       "flex_flow": null,
       "grid_area": null,
       "grid_auto_columns": null,
       "grid_auto_flow": null,
       "grid_auto_rows": null,
       "grid_column": null,
       "grid_gap": null,
       "grid_row": null,
       "grid_template_areas": null,
       "grid_template_columns": null,
       "grid_template_rows": null,
       "height": null,
       "justify_content": null,
       "justify_items": null,
       "left": null,
       "margin": null,
       "max_height": null,
       "max_width": null,
       "min_height": null,
       "min_width": null,
       "object_fit": null,
       "object_position": null,
       "order": null,
       "overflow": null,
       "overflow_x": null,
       "overflow_y": null,
       "padding": null,
       "right": null,
       "top": null,
       "visibility": null,
       "width": null
      }
     },
     "4d605bdf75094c9aa94e11123708744e": {
      "model_module": "@jupyter-widgets/controls",
      "model_module_version": "1.5.0",
      "model_name": "DescriptionStyleModel",
      "state": {
       "_model_module": "@jupyter-widgets/controls",
       "_model_module_version": "1.5.0",
       "_model_name": "DescriptionStyleModel",
       "_view_count": null,
       "_view_module": "@jupyter-widgets/base",
       "_view_module_version": "1.2.0",
       "_view_name": "StyleView",
       "description_width": ""
      }
     },
     "52e43dbcd7114ae7bf277a8983a2fb6d": {
      "model_module": "@jupyter-widgets/controls",
      "model_module_version": "1.5.0",
      "model_name": "HBoxModel",
      "state": {
       "_dom_classes": [],
       "_model_module": "@jupyter-widgets/controls",
       "_model_module_version": "1.5.0",
       "_model_name": "HBoxModel",
       "_view_count": null,
       "_view_module": "@jupyter-widgets/controls",
       "_view_module_version": "1.5.0",
       "_view_name": "HBoxView",
       "box_style": "",
       "children": [
        "IPY_MODEL_a82325342e3342d49e0d9bc524ee9ad3",
        "IPY_MODEL_871fc64bc3c14cacaf4eb9ecddc1066f",
        "IPY_MODEL_5b0ae7ad58be4f7aa03a0ee219921eea"
       ],
       "layout": "IPY_MODEL_d7dff1940eb74128bad0df185e7d28ea"
      }
     },
     "550205c090c041d1928a4d01634decc7": {
      "model_module": "@jupyter-widgets/controls",
      "model_module_version": "1.5.0",
      "model_name": "DescriptionStyleModel",
      "state": {
       "_model_module": "@jupyter-widgets/controls",
       "_model_module_version": "1.5.0",
       "_model_name": "DescriptionStyleModel",
       "_view_count": null,
       "_view_module": "@jupyter-widgets/base",
       "_view_module_version": "1.2.0",
       "_view_name": "StyleView",
       "description_width": ""
      }
     },
     "558e544169c74f419d701696faf2a1d1": {
      "model_module": "@jupyter-widgets/controls",
      "model_module_version": "1.5.0",
      "model_name": "HBoxModel",
      "state": {
       "_dom_classes": [],
       "_model_module": "@jupyter-widgets/controls",
       "_model_module_version": "1.5.0",
       "_model_name": "HBoxModel",
       "_view_count": null,
       "_view_module": "@jupyter-widgets/controls",
       "_view_module_version": "1.5.0",
       "_view_name": "HBoxView",
       "box_style": "",
       "children": [
        "IPY_MODEL_30f3a43b021f44b7b04688791c5c2efd",
        "IPY_MODEL_db43c90aa67947938e3d175eace2bb5f",
        "IPY_MODEL_1bd369821609472d829cff2b69bb09bd"
       ],
       "layout": "IPY_MODEL_79f84479851a4ba1896ab5428d1d5087"
      }
     },
     "569197eec5f9489a8c97aacf5bf8afa6": {
      "model_module": "@jupyter-widgets/controls",
      "model_module_version": "1.5.0",
      "model_name": "DescriptionStyleModel",
      "state": {
       "_model_module": "@jupyter-widgets/controls",
       "_model_module_version": "1.5.0",
       "_model_name": "DescriptionStyleModel",
       "_view_count": null,
       "_view_module": "@jupyter-widgets/base",
       "_view_module_version": "1.2.0",
       "_view_name": "StyleView",
       "description_width": ""
      }
     },
     "5a71aabbecc2449e8d9a67d0cfc3aaf8": {
      "model_module": "@jupyter-widgets/controls",
      "model_module_version": "1.5.0",
      "model_name": "DescriptionStyleModel",
      "state": {
       "_model_module": "@jupyter-widgets/controls",
       "_model_module_version": "1.5.0",
       "_model_name": "DescriptionStyleModel",
       "_view_count": null,
       "_view_module": "@jupyter-widgets/base",
       "_view_module_version": "1.2.0",
       "_view_name": "StyleView",
       "description_width": ""
      }
     },
     "5b0ae7ad58be4f7aa03a0ee219921eea": {
      "model_module": "@jupyter-widgets/controls",
      "model_module_version": "1.5.0",
      "model_name": "HTMLModel",
      "state": {
       "_dom_classes": [],
       "_model_module": "@jupyter-widgets/controls",
       "_model_module_version": "1.5.0",
       "_model_name": "HTMLModel",
       "_view_count": null,
       "_view_module": "@jupyter-widgets/controls",
       "_view_module_version": "1.5.0",
       "_view_name": "HTMLView",
       "description": "",
       "description_tooltip": null,
       "layout": "IPY_MODEL_05b9f745702945cea513b7ee2e7188e8",
       "placeholder": "\u200b",
       "style": "IPY_MODEL_5a71aabbecc2449e8d9a67d0cfc3aaf8",
       "value": " 1000/1000 [00:00&lt;00:00, 13206.21it/s]"
      }
     },
     "5f32c0e763134c79ac97f8546639beb1": {
      "model_module": "@jupyter-widgets/controls",
      "model_module_version": "1.5.0",
      "model_name": "DescriptionStyleModel",
      "state": {
       "_model_module": "@jupyter-widgets/controls",
       "_model_module_version": "1.5.0",
       "_model_name": "DescriptionStyleModel",
       "_view_count": null,
       "_view_module": "@jupyter-widgets/base",
       "_view_module_version": "1.2.0",
       "_view_name": "StyleView",
       "description_width": ""
      }
     },
     "6106ffc5d6594958b455d1f26eb1a631": {
      "model_module": "@jupyter-widgets/base",
      "model_module_version": "1.2.0",
      "model_name": "LayoutModel",
      "state": {
       "_model_module": "@jupyter-widgets/base",
       "_model_module_version": "1.2.0",
       "_model_name": "LayoutModel",
       "_view_count": null,
       "_view_module": "@jupyter-widgets/base",
       "_view_module_version": "1.2.0",
       "_view_name": "LayoutView",
       "align_content": null,
       "align_items": null,
       "align_self": null,
       "border": null,
       "bottom": null,
       "display": null,
       "flex": null,
       "flex_flow": null,
       "grid_area": null,
       "grid_auto_columns": null,
       "grid_auto_flow": null,
       "grid_auto_rows": null,
       "grid_column": null,
       "grid_gap": null,
       "grid_row": null,
       "grid_template_areas": null,
       "grid_template_columns": null,
       "grid_template_rows": null,
       "height": null,
       "justify_content": null,
       "justify_items": null,
       "left": null,
       "margin": null,
       "max_height": null,
       "max_width": null,
       "min_height": null,
       "min_width": null,
       "object_fit": null,
       "object_position": null,
       "order": null,
       "overflow": null,
       "overflow_x": null,
       "overflow_y": null,
       "padding": null,
       "right": null,
       "top": null,
       "visibility": null,
       "width": null
      }
     },
     "65220c0782b14968b73b1b9213eab7b3": {
      "model_module": "@jupyter-widgets/controls",
      "model_module_version": "1.5.0",
      "model_name": "HBoxModel",
      "state": {
       "_dom_classes": [],
       "_model_module": "@jupyter-widgets/controls",
       "_model_module_version": "1.5.0",
       "_model_name": "HBoxModel",
       "_view_count": null,
       "_view_module": "@jupyter-widgets/controls",
       "_view_module_version": "1.5.0",
       "_view_name": "HBoxView",
       "box_style": "",
       "children": [
        "IPY_MODEL_a278690ffb284b9aad83ab0b29de336f",
        "IPY_MODEL_7b946bbb2e774431b379752a2399f436",
        "IPY_MODEL_e9bf042e6a70473f94addca1f1cd0551"
       ],
       "layout": "IPY_MODEL_add9f3aa8e0f406c894bd004e9fb881a"
      }
     },
     "65dc7bd6b2704c15bb8867e95ee92ac4": {
      "model_module": "@jupyter-widgets/base",
      "model_module_version": "1.2.0",
      "model_name": "LayoutModel",
      "state": {
       "_model_module": "@jupyter-widgets/base",
       "_model_module_version": "1.2.0",
       "_model_name": "LayoutModel",
       "_view_count": null,
       "_view_module": "@jupyter-widgets/base",
       "_view_module_version": "1.2.0",
       "_view_name": "LayoutView",
       "align_content": null,
       "align_items": null,
       "align_self": null,
       "border": null,
       "bottom": null,
       "display": null,
       "flex": null,
       "flex_flow": null,
       "grid_area": null,
       "grid_auto_columns": null,
       "grid_auto_flow": null,
       "grid_auto_rows": null,
       "grid_column": null,
       "grid_gap": null,
       "grid_row": null,
       "grid_template_areas": null,
       "grid_template_columns": null,
       "grid_template_rows": null,
       "height": null,
       "justify_content": null,
       "justify_items": null,
       "left": null,
       "margin": null,
       "max_height": null,
       "max_width": null,
       "min_height": null,
       "min_width": null,
       "object_fit": null,
       "object_position": null,
       "order": null,
       "overflow": null,
       "overflow_x": null,
       "overflow_y": null,
       "padding": null,
       "right": null,
       "top": null,
       "visibility": null,
       "width": null
      }
     },
     "663a1ab85bc248afa981e68eec802c4f": {
      "model_module": "@jupyter-widgets/base",
      "model_module_version": "1.2.0",
      "model_name": "LayoutModel",
      "state": {
       "_model_module": "@jupyter-widgets/base",
       "_model_module_version": "1.2.0",
       "_model_name": "LayoutModel",
       "_view_count": null,
       "_view_module": "@jupyter-widgets/base",
       "_view_module_version": "1.2.0",
       "_view_name": "LayoutView",
       "align_content": null,
       "align_items": null,
       "align_self": null,
       "border": null,
       "bottom": null,
       "display": null,
       "flex": null,
       "flex_flow": null,
       "grid_area": null,
       "grid_auto_columns": null,
       "grid_auto_flow": null,
       "grid_auto_rows": null,
       "grid_column": null,
       "grid_gap": null,
       "grid_row": null,
       "grid_template_areas": null,
       "grid_template_columns": null,
       "grid_template_rows": null,
       "height": null,
       "justify_content": null,
       "justify_items": null,
       "left": null,
       "margin": null,
       "max_height": null,
       "max_width": null,
       "min_height": null,
       "min_width": null,
       "object_fit": null,
       "object_position": null,
       "order": null,
       "overflow": null,
       "overflow_x": null,
       "overflow_y": null,
       "padding": null,
       "right": null,
       "top": null,
       "visibility": null,
       "width": null
      }
     },
     "66d454a9f1ce4463ac3579ca3788d62a": {
      "model_module": "@jupyter-widgets/controls",
      "model_module_version": "1.5.0",
      "model_name": "HTMLModel",
      "state": {
       "_dom_classes": [],
       "_model_module": "@jupyter-widgets/controls",
       "_model_module_version": "1.5.0",
       "_model_name": "HTMLModel",
       "_view_count": null,
       "_view_module": "@jupyter-widgets/controls",
       "_view_module_version": "1.5.0",
       "_view_name": "HTMLView",
       "description": "",
       "description_tooltip": null,
       "layout": "IPY_MODEL_f38f8ac3e1324e0ebff8043934898ced",
       "placeholder": "\u200b",
       "style": "IPY_MODEL_802493b67fcb4db0923bef4cbd312c00",
       "value": "100%"
      }
     },
     "6ca50bc78e3846b199e1edab77488410": {
      "model_module": "@jupyter-widgets/controls",
      "model_module_version": "1.5.0",
      "model_name": "DescriptionStyleModel",
      "state": {
       "_model_module": "@jupyter-widgets/controls",
       "_model_module_version": "1.5.0",
       "_model_name": "DescriptionStyleModel",
       "_view_count": null,
       "_view_module": "@jupyter-widgets/base",
       "_view_module_version": "1.2.0",
       "_view_name": "StyleView",
       "description_width": ""
      }
     },
     "6f05d9b09a3e43ddaa2a350f2d989ad6": {
      "model_module": "@jupyter-widgets/controls",
      "model_module_version": "1.5.0",
      "model_name": "HBoxModel",
      "state": {
       "_dom_classes": [],
       "_model_module": "@jupyter-widgets/controls",
       "_model_module_version": "1.5.0",
       "_model_name": "HBoxModel",
       "_view_count": null,
       "_view_module": "@jupyter-widgets/controls",
       "_view_module_version": "1.5.0",
       "_view_name": "HBoxView",
       "box_style": "",
       "children": [
        "IPY_MODEL_ad1c19b6a22f4364944ab359c6b37e13",
        "IPY_MODEL_a4e907265a524632840c1c496e26afb6",
        "IPY_MODEL_f9c50ec09d1a4508b0087b8f12cdef28"
       ],
       "layout": "IPY_MODEL_08da98311fd543f9a6a1db9ebdbc615f"
      }
     },
     "70b02639d4ab4e5cb77a661eeb817397": {
      "model_module": "@jupyter-widgets/controls",
      "model_module_version": "1.5.0",
      "model_name": "HTMLModel",
      "state": {
       "_dom_classes": [],
       "_model_module": "@jupyter-widgets/controls",
       "_model_module_version": "1.5.0",
       "_model_name": "HTMLModel",
       "_view_count": null,
       "_view_module": "@jupyter-widgets/controls",
       "_view_module_version": "1.5.0",
       "_view_name": "HTMLView",
       "description": "",
       "description_tooltip": null,
       "layout": "IPY_MODEL_4d2693fab088499da3b9b88cae8d2b75",
       "placeholder": "\u200b",
       "style": "IPY_MODEL_2744a4fb114f48708f064bfc13bc0038",
       "value": "100%"
      }
     },
     "75675535ff1247a2b4c7f0027d67f485": {
      "model_module": "@jupyter-widgets/controls",
      "model_module_version": "1.5.0",
      "model_name": "HBoxModel",
      "state": {
       "_dom_classes": [],
       "_model_module": "@jupyter-widgets/controls",
       "_model_module_version": "1.5.0",
       "_model_name": "HBoxModel",
       "_view_count": null,
       "_view_module": "@jupyter-widgets/controls",
       "_view_module_version": "1.5.0",
       "_view_name": "HBoxView",
       "box_style": "",
       "children": [
        "IPY_MODEL_3b4610e17dd84f65a2cec6ce799807ed",
        "IPY_MODEL_deb7265ec38d488084e694a488a7e839",
        "IPY_MODEL_466003b039d84d77bce1cd6e860d00c6"
       ],
       "layout": "IPY_MODEL_786c77ec5f7d4c9a97987f70120ebe4d"
      }
     },
     "786c77ec5f7d4c9a97987f70120ebe4d": {
      "model_module": "@jupyter-widgets/base",
      "model_module_version": "1.2.0",
      "model_name": "LayoutModel",
      "state": {
       "_model_module": "@jupyter-widgets/base",
       "_model_module_version": "1.2.0",
       "_model_name": "LayoutModel",
       "_view_count": null,
       "_view_module": "@jupyter-widgets/base",
       "_view_module_version": "1.2.0",
       "_view_name": "LayoutView",
       "align_content": null,
       "align_items": null,
       "align_self": null,
       "border": null,
       "bottom": null,
       "display": null,
       "flex": null,
       "flex_flow": null,
       "grid_area": null,
       "grid_auto_columns": null,
       "grid_auto_flow": null,
       "grid_auto_rows": null,
       "grid_column": null,
       "grid_gap": null,
       "grid_row": null,
       "grid_template_areas": null,
       "grid_template_columns": null,
       "grid_template_rows": null,
       "height": null,
       "justify_content": null,
       "justify_items": null,
       "left": null,
       "margin": null,
       "max_height": null,
       "max_width": null,
       "min_height": null,
       "min_width": null,
       "object_fit": null,
       "object_position": null,
       "order": null,
       "overflow": null,
       "overflow_x": null,
       "overflow_y": null,
       "padding": null,
       "right": null,
       "top": null,
       "visibility": null,
       "width": null
      }
     },
     "79f84479851a4ba1896ab5428d1d5087": {
      "model_module": "@jupyter-widgets/base",
      "model_module_version": "1.2.0",
      "model_name": "LayoutModel",
      "state": {
       "_model_module": "@jupyter-widgets/base",
       "_model_module_version": "1.2.0",
       "_model_name": "LayoutModel",
       "_view_count": null,
       "_view_module": "@jupyter-widgets/base",
       "_view_module_version": "1.2.0",
       "_view_name": "LayoutView",
       "align_content": null,
       "align_items": null,
       "align_self": null,
       "border": null,
       "bottom": null,
       "display": null,
       "flex": null,
       "flex_flow": null,
       "grid_area": null,
       "grid_auto_columns": null,
       "grid_auto_flow": null,
       "grid_auto_rows": null,
       "grid_column": null,
       "grid_gap": null,
       "grid_row": null,
       "grid_template_areas": null,
       "grid_template_columns": null,
       "grid_template_rows": null,
       "height": null,
       "justify_content": null,
       "justify_items": null,
       "left": null,
       "margin": null,
       "max_height": null,
       "max_width": null,
       "min_height": null,
       "min_width": null,
       "object_fit": null,
       "object_position": null,
       "order": null,
       "overflow": null,
       "overflow_x": null,
       "overflow_y": null,
       "padding": null,
       "right": null,
       "top": null,
       "visibility": null,
       "width": null
      }
     },
     "7b946bbb2e774431b379752a2399f436": {
      "model_module": "@jupyter-widgets/controls",
      "model_module_version": "1.5.0",
      "model_name": "FloatProgressModel",
      "state": {
       "_dom_classes": [],
       "_model_module": "@jupyter-widgets/controls",
       "_model_module_version": "1.5.0",
       "_model_name": "FloatProgressModel",
       "_view_count": null,
       "_view_module": "@jupyter-widgets/controls",
       "_view_module_version": "1.5.0",
       "_view_name": "ProgressView",
       "bar_style": "success",
       "description": "",
       "description_tooltip": null,
       "layout": "IPY_MODEL_d6457eddbcdd481397838a5603bdcaa6",
       "max": 500.0,
       "min": 0.0,
       "orientation": "horizontal",
       "style": "IPY_MODEL_f9faf3b5a0ad43f4abddb6371fc54762",
       "value": 500.0
      }
     },
     "8007623f418d4b098184343f85b15791": {
      "model_module": "@jupyter-widgets/controls",
      "model_module_version": "1.5.0",
      "model_name": "DescriptionStyleModel",
      "state": {
       "_model_module": "@jupyter-widgets/controls",
       "_model_module_version": "1.5.0",
       "_model_name": "DescriptionStyleModel",
       "_view_count": null,
       "_view_module": "@jupyter-widgets/base",
       "_view_module_version": "1.2.0",
       "_view_name": "StyleView",
       "description_width": ""
      }
     },
     "802493b67fcb4db0923bef4cbd312c00": {
      "model_module": "@jupyter-widgets/controls",
      "model_module_version": "1.5.0",
      "model_name": "DescriptionStyleModel",
      "state": {
       "_model_module": "@jupyter-widgets/controls",
       "_model_module_version": "1.5.0",
       "_model_name": "DescriptionStyleModel",
       "_view_count": null,
       "_view_module": "@jupyter-widgets/base",
       "_view_module_version": "1.2.0",
       "_view_name": "StyleView",
       "description_width": ""
      }
     },
     "821db0aea9294762bf945558b9d120a1": {
      "model_module": "@jupyter-widgets/controls",
      "model_module_version": "1.5.0",
      "model_name": "DescriptionStyleModel",
      "state": {
       "_model_module": "@jupyter-widgets/controls",
       "_model_module_version": "1.5.0",
       "_model_name": "DescriptionStyleModel",
       "_view_count": null,
       "_view_module": "@jupyter-widgets/base",
       "_view_module_version": "1.2.0",
       "_view_name": "StyleView",
       "description_width": ""
      }
     },
     "859f8f2617b4433c9586e49c43e630f4": {
      "model_module": "@jupyter-widgets/controls",
      "model_module_version": "1.5.0",
      "model_name": "FloatProgressModel",
      "state": {
       "_dom_classes": [],
       "_model_module": "@jupyter-widgets/controls",
       "_model_module_version": "1.5.0",
       "_model_name": "FloatProgressModel",
       "_view_count": null,
       "_view_module": "@jupyter-widgets/controls",
       "_view_module_version": "1.5.0",
       "_view_name": "ProgressView",
       "bar_style": "success",
       "description": "",
       "description_tooltip": null,
       "layout": "IPY_MODEL_9c85edcbbf5a45f397e97b34b0456ead",
       "max": 1000.0,
       "min": 0.0,
       "orientation": "horizontal",
       "style": "IPY_MODEL_2b56d8061ff3449792fce529fc331ff3",
       "value": 1000.0
      }
     },
     "871fc64bc3c14cacaf4eb9ecddc1066f": {
      "model_module": "@jupyter-widgets/controls",
      "model_module_version": "1.5.0",
      "model_name": "FloatProgressModel",
      "state": {
       "_dom_classes": [],
       "_model_module": "@jupyter-widgets/controls",
       "_model_module_version": "1.5.0",
       "_model_name": "FloatProgressModel",
       "_view_count": null,
       "_view_module": "@jupyter-widgets/controls",
       "_view_module_version": "1.5.0",
       "_view_name": "ProgressView",
       "bar_style": "success",
       "description": "",
       "description_tooltip": null,
       "layout": "IPY_MODEL_43b51917faef4834917541ce8eb2d837",
       "max": 1000.0,
       "min": 0.0,
       "orientation": "horizontal",
       "style": "IPY_MODEL_22386cc0e18f4ae786fc422ccca3548d",
       "value": 1000.0
      }
     },
     "88ea7693407e4bd398dc3860a752d67d": {
      "model_module": "@jupyter-widgets/controls",
      "model_module_version": "1.5.0",
      "model_name": "DescriptionStyleModel",
      "state": {
       "_model_module": "@jupyter-widgets/controls",
       "_model_module_version": "1.5.0",
       "_model_name": "DescriptionStyleModel",
       "_view_count": null,
       "_view_module": "@jupyter-widgets/base",
       "_view_module_version": "1.2.0",
       "_view_name": "StyleView",
       "description_width": ""
      }
     },
     "8a667856bc7a4b7f9de4676da4494a1a": {
      "model_module": "@jupyter-widgets/base",
      "model_module_version": "1.2.0",
      "model_name": "LayoutModel",
      "state": {
       "_model_module": "@jupyter-widgets/base",
       "_model_module_version": "1.2.0",
       "_model_name": "LayoutModel",
       "_view_count": null,
       "_view_module": "@jupyter-widgets/base",
       "_view_module_version": "1.2.0",
       "_view_name": "LayoutView",
       "align_content": null,
       "align_items": null,
       "align_self": null,
       "border": null,
       "bottom": null,
       "display": null,
       "flex": null,
       "flex_flow": null,
       "grid_area": null,
       "grid_auto_columns": null,
       "grid_auto_flow": null,
       "grid_auto_rows": null,
       "grid_column": null,
       "grid_gap": null,
       "grid_row": null,
       "grid_template_areas": null,
       "grid_template_columns": null,
       "grid_template_rows": null,
       "height": null,
       "justify_content": null,
       "justify_items": null,
       "left": null,
       "margin": null,
       "max_height": null,
       "max_width": null,
       "min_height": null,
       "min_width": null,
       "object_fit": null,
       "object_position": null,
       "order": null,
       "overflow": null,
       "overflow_x": null,
       "overflow_y": null,
       "padding": null,
       "right": null,
       "top": null,
       "visibility": null,
       "width": null
      }
     },
     "8ae9292c0d4b490ebb7158c6392574a7": {
      "model_module": "@jupyter-widgets/controls",
      "model_module_version": "1.5.0",
      "model_name": "HTMLModel",
      "state": {
       "_dom_classes": [],
       "_model_module": "@jupyter-widgets/controls",
       "_model_module_version": "1.5.0",
       "_model_name": "HTMLModel",
       "_view_count": null,
       "_view_module": "@jupyter-widgets/controls",
       "_view_module_version": "1.5.0",
       "_view_name": "HTMLView",
       "description": "",
       "description_tooltip": null,
       "layout": "IPY_MODEL_9e06004adada43a7b7e8e328e7e3233c",
       "placeholder": "\u200b",
       "style": "IPY_MODEL_abe09a16eacb40db89411e1af2580eb2",
       "value": " 1000/1000 [00:00&lt;00:00, 1366.27it/s]"
      }
     },
     "8e8d55a868bd43c59543b08d89b04713": {
      "model_module": "@jupyter-widgets/controls",
      "model_module_version": "1.5.0",
      "model_name": "DescriptionStyleModel",
      "state": {
       "_model_module": "@jupyter-widgets/controls",
       "_model_module_version": "1.5.0",
       "_model_name": "DescriptionStyleModel",
       "_view_count": null,
       "_view_module": "@jupyter-widgets/base",
       "_view_module_version": "1.2.0",
       "_view_name": "StyleView",
       "description_width": ""
      }
     },
     "8ed70084c4f848be9a9e9f7cfec81953": {
      "model_module": "@jupyter-widgets/base",
      "model_module_version": "1.2.0",
      "model_name": "LayoutModel",
      "state": {
       "_model_module": "@jupyter-widgets/base",
       "_model_module_version": "1.2.0",
       "_model_name": "LayoutModel",
       "_view_count": null,
       "_view_module": "@jupyter-widgets/base",
       "_view_module_version": "1.2.0",
       "_view_name": "LayoutView",
       "align_content": null,
       "align_items": null,
       "align_self": null,
       "border": null,
       "bottom": null,
       "display": null,
       "flex": null,
       "flex_flow": null,
       "grid_area": null,
       "grid_auto_columns": null,
       "grid_auto_flow": null,
       "grid_auto_rows": null,
       "grid_column": null,
       "grid_gap": null,
       "grid_row": null,
       "grid_template_areas": null,
       "grid_template_columns": null,
       "grid_template_rows": null,
       "height": null,
       "justify_content": null,
       "justify_items": null,
       "left": null,
       "margin": null,
       "max_height": null,
       "max_width": null,
       "min_height": null,
       "min_width": null,
       "object_fit": null,
       "object_position": null,
       "order": null,
       "overflow": null,
       "overflow_x": null,
       "overflow_y": null,
       "padding": null,
       "right": null,
       "top": null,
       "visibility": null,
       "width": null
      }
     },
     "90afaba72d10413b94e5bdd8c76f140d": {
      "model_module": "@jupyter-widgets/controls",
      "model_module_version": "1.5.0",
      "model_name": "DescriptionStyleModel",
      "state": {
       "_model_module": "@jupyter-widgets/controls",
       "_model_module_version": "1.5.0",
       "_model_name": "DescriptionStyleModel",
       "_view_count": null,
       "_view_module": "@jupyter-widgets/base",
       "_view_module_version": "1.2.0",
       "_view_name": "StyleView",
       "description_width": ""
      }
     },
     "96459b7088f14258bb630f2bbc2b808f": {
      "model_module": "@jupyter-widgets/controls",
      "model_module_version": "1.5.0",
      "model_name": "ProgressStyleModel",
      "state": {
       "_model_module": "@jupyter-widgets/controls",
       "_model_module_version": "1.5.0",
       "_model_name": "ProgressStyleModel",
       "_view_count": null,
       "_view_module": "@jupyter-widgets/base",
       "_view_module_version": "1.2.0",
       "_view_name": "StyleView",
       "bar_color": null,
       "description_width": ""
      }
     },
     "9b9d50b673f846a3ace9e68091ada02d": {
      "model_module": "@jupyter-widgets/controls",
      "model_module_version": "1.5.0",
      "model_name": "HTMLModel",
      "state": {
       "_dom_classes": [],
       "_model_module": "@jupyter-widgets/controls",
       "_model_module_version": "1.5.0",
       "_model_name": "HTMLModel",
       "_view_count": null,
       "_view_module": "@jupyter-widgets/controls",
       "_view_module_version": "1.5.0",
       "_view_name": "HTMLView",
       "description": "",
       "description_tooltip": null,
       "layout": "IPY_MODEL_cd7c19835fab4e9c9ce7abbac1f05736",
       "placeholder": "\u200b",
       "style": "IPY_MODEL_550205c090c041d1928a4d01634decc7",
       "value": "100%"
      }
     },
     "9c85edcbbf5a45f397e97b34b0456ead": {
      "model_module": "@jupyter-widgets/base",
      "model_module_version": "1.2.0",
      "model_name": "LayoutModel",
      "state": {
       "_model_module": "@jupyter-widgets/base",
       "_model_module_version": "1.2.0",
       "_model_name": "LayoutModel",
       "_view_count": null,
       "_view_module": "@jupyter-widgets/base",
       "_view_module_version": "1.2.0",
       "_view_name": "LayoutView",
       "align_content": null,
       "align_items": null,
       "align_self": null,
       "border": null,
       "bottom": null,
       "display": null,
       "flex": null,
       "flex_flow": null,
       "grid_area": null,
       "grid_auto_columns": null,
       "grid_auto_flow": null,
       "grid_auto_rows": null,
       "grid_column": null,
       "grid_gap": null,
       "grid_row": null,
       "grid_template_areas": null,
       "grid_template_columns": null,
       "grid_template_rows": null,
       "height": null,
       "justify_content": null,
       "justify_items": null,
       "left": null,
       "margin": null,
       "max_height": null,
       "max_width": null,
       "min_height": null,
       "min_width": null,
       "object_fit": null,
       "object_position": null,
       "order": null,
       "overflow": null,
       "overflow_x": null,
       "overflow_y": null,
       "padding": null,
       "right": null,
       "top": null,
       "visibility": null,
       "width": null
      }
     },
     "9e06004adada43a7b7e8e328e7e3233c": {
      "model_module": "@jupyter-widgets/base",
      "model_module_version": "1.2.0",
      "model_name": "LayoutModel",
      "state": {
       "_model_module": "@jupyter-widgets/base",
       "_model_module_version": "1.2.0",
       "_model_name": "LayoutModel",
       "_view_count": null,
       "_view_module": "@jupyter-widgets/base",
       "_view_module_version": "1.2.0",
       "_view_name": "LayoutView",
       "align_content": null,
       "align_items": null,
       "align_self": null,
       "border": null,
       "bottom": null,
       "display": null,
       "flex": null,
       "flex_flow": null,
       "grid_area": null,
       "grid_auto_columns": null,
       "grid_auto_flow": null,
       "grid_auto_rows": null,
       "grid_column": null,
       "grid_gap": null,
       "grid_row": null,
       "grid_template_areas": null,
       "grid_template_columns": null,
       "grid_template_rows": null,
       "height": null,
       "justify_content": null,
       "justify_items": null,
       "left": null,
       "margin": null,
       "max_height": null,
       "max_width": null,
       "min_height": null,
       "min_width": null,
       "object_fit": null,
       "object_position": null,
       "order": null,
       "overflow": null,
       "overflow_x": null,
       "overflow_y": null,
       "padding": null,
       "right": null,
       "top": null,
       "visibility": null,
       "width": null
      }
     },
     "a01ad07619f5421287e0d023aaf661f4": {
      "model_module": "@jupyter-widgets/base",
      "model_module_version": "1.2.0",
      "model_name": "LayoutModel",
      "state": {
       "_model_module": "@jupyter-widgets/base",
       "_model_module_version": "1.2.0",
       "_model_name": "LayoutModel",
       "_view_count": null,
       "_view_module": "@jupyter-widgets/base",
       "_view_module_version": "1.2.0",
       "_view_name": "LayoutView",
       "align_content": null,
       "align_items": null,
       "align_self": null,
       "border": null,
       "bottom": null,
       "display": null,
       "flex": null,
       "flex_flow": null,
       "grid_area": null,
       "grid_auto_columns": null,
       "grid_auto_flow": null,
       "grid_auto_rows": null,
       "grid_column": null,
       "grid_gap": null,
       "grid_row": null,
       "grid_template_areas": null,
       "grid_template_columns": null,
       "grid_template_rows": null,
       "height": null,
       "justify_content": null,
       "justify_items": null,
       "left": null,
       "margin": null,
       "max_height": null,
       "max_width": null,
       "min_height": null,
       "min_width": null,
       "object_fit": null,
       "object_position": null,
       "order": null,
       "overflow": null,
       "overflow_x": null,
       "overflow_y": null,
       "padding": null,
       "right": null,
       "top": null,
       "visibility": null,
       "width": null
      }
     },
     "a12f0c797d8e472b9d3db72317d216fb": {
      "model_module": "@jupyter-widgets/controls",
      "model_module_version": "1.5.0",
      "model_name": "ProgressStyleModel",
      "state": {
       "_model_module": "@jupyter-widgets/controls",
       "_model_module_version": "1.5.0",
       "_model_name": "ProgressStyleModel",
       "_view_count": null,
       "_view_module": "@jupyter-widgets/base",
       "_view_module_version": "1.2.0",
       "_view_name": "StyleView",
       "bar_color": null,
       "description_width": ""
      }
     },
     "a278690ffb284b9aad83ab0b29de336f": {
      "model_module": "@jupyter-widgets/controls",
      "model_module_version": "1.5.0",
      "model_name": "HTMLModel",
      "state": {
       "_dom_classes": [],
       "_model_module": "@jupyter-widgets/controls",
       "_model_module_version": "1.5.0",
       "_model_name": "HTMLModel",
       "_view_count": null,
       "_view_module": "@jupyter-widgets/controls",
       "_view_module_version": "1.5.0",
       "_view_name": "HTMLView",
       "description": "",
       "description_tooltip": null,
       "layout": "IPY_MODEL_e76584f836d043f7a3fd5e6a93c9d0cd",
       "placeholder": "\u200b",
       "style": "IPY_MODEL_c736a9473bb8434cb5dfc4894c394e86",
       "value": "100%"
      }
     },
     "a30df7e951e74c7c98348af32c61c815": {
      "model_module": "@jupyter-widgets/controls",
      "model_module_version": "1.5.0",
      "model_name": "DescriptionStyleModel",
      "state": {
       "_model_module": "@jupyter-widgets/controls",
       "_model_module_version": "1.5.0",
       "_model_name": "DescriptionStyleModel",
       "_view_count": null,
       "_view_module": "@jupyter-widgets/base",
       "_view_module_version": "1.2.0",
       "_view_name": "StyleView",
       "description_width": ""
      }
     },
     "a4e907265a524632840c1c496e26afb6": {
      "model_module": "@jupyter-widgets/controls",
      "model_module_version": "1.5.0",
      "model_name": "FloatProgressModel",
      "state": {
       "_dom_classes": [],
       "_model_module": "@jupyter-widgets/controls",
       "_model_module_version": "1.5.0",
       "_model_name": "FloatProgressModel",
       "_view_count": null,
       "_view_module": "@jupyter-widgets/controls",
       "_view_module_version": "1.5.0",
       "_view_name": "ProgressView",
       "bar_style": "success",
       "description": "",
       "description_tooltip": null,
       "layout": "IPY_MODEL_bae6ca3fe38e4b0b80732a493f80ec7e",
       "max": 1000.0,
       "min": 0.0,
       "orientation": "horizontal",
       "style": "IPY_MODEL_c8ea21f0597d4ffab476dce70a108eb2",
       "value": 1000.0
      }
     },
     "a5883784c0bf461eadf67e410be6cf4a": {
      "model_module": "@jupyter-widgets/base",
      "model_module_version": "1.2.0",
      "model_name": "LayoutModel",
      "state": {
       "_model_module": "@jupyter-widgets/base",
       "_model_module_version": "1.2.0",
       "_model_name": "LayoutModel",
       "_view_count": null,
       "_view_module": "@jupyter-widgets/base",
       "_view_module_version": "1.2.0",
       "_view_name": "LayoutView",
       "align_content": null,
       "align_items": null,
       "align_self": null,
       "border": null,
       "bottom": null,
       "display": null,
       "flex": null,
       "flex_flow": null,
       "grid_area": null,
       "grid_auto_columns": null,
       "grid_auto_flow": null,
       "grid_auto_rows": null,
       "grid_column": null,
       "grid_gap": null,
       "grid_row": null,
       "grid_template_areas": null,
       "grid_template_columns": null,
       "grid_template_rows": null,
       "height": null,
       "justify_content": null,
       "justify_items": null,
       "left": null,
       "margin": null,
       "max_height": null,
       "max_width": null,
       "min_height": null,
       "min_width": null,
       "object_fit": null,
       "object_position": null,
       "order": null,
       "overflow": null,
       "overflow_x": null,
       "overflow_y": null,
       "padding": null,
       "right": null,
       "top": null,
       "visibility": null,
       "width": null
      }
     },
     "a82325342e3342d49e0d9bc524ee9ad3": {
      "model_module": "@jupyter-widgets/controls",
      "model_module_version": "1.5.0",
      "model_name": "HTMLModel",
      "state": {
       "_dom_classes": [],
       "_model_module": "@jupyter-widgets/controls",
       "_model_module_version": "1.5.0",
       "_model_name": "HTMLModel",
       "_view_count": null,
       "_view_module": "@jupyter-widgets/controls",
       "_view_module_version": "1.5.0",
       "_view_name": "HTMLView",
       "description": "",
       "description_tooltip": null,
       "layout": "IPY_MODEL_8a667856bc7a4b7f9de4676da4494a1a",
       "placeholder": "\u200b",
       "style": "IPY_MODEL_8e8d55a868bd43c59543b08d89b04713",
       "value": "100%"
      }
     },
     "abe09a16eacb40db89411e1af2580eb2": {
      "model_module": "@jupyter-widgets/controls",
      "model_module_version": "1.5.0",
      "model_name": "DescriptionStyleModel",
      "state": {
       "_model_module": "@jupyter-widgets/controls",
       "_model_module_version": "1.5.0",
       "_model_name": "DescriptionStyleModel",
       "_view_count": null,
       "_view_module": "@jupyter-widgets/base",
       "_view_module_version": "1.2.0",
       "_view_name": "StyleView",
       "description_width": ""
      }
     },
     "ac9635096cdd49499cffd863b3f962a8": {
      "model_module": "@jupyter-widgets/controls",
      "model_module_version": "1.5.0",
      "model_name": "ProgressStyleModel",
      "state": {
       "_model_module": "@jupyter-widgets/controls",
       "_model_module_version": "1.5.0",
       "_model_name": "ProgressStyleModel",
       "_view_count": null,
       "_view_module": "@jupyter-widgets/base",
       "_view_module_version": "1.2.0",
       "_view_name": "StyleView",
       "bar_color": null,
       "description_width": ""
      }
     },
     "ad1c19b6a22f4364944ab359c6b37e13": {
      "model_module": "@jupyter-widgets/controls",
      "model_module_version": "1.5.0",
      "model_name": "HTMLModel",
      "state": {
       "_dom_classes": [],
       "_model_module": "@jupyter-widgets/controls",
       "_model_module_version": "1.5.0",
       "_model_name": "HTMLModel",
       "_view_count": null,
       "_view_module": "@jupyter-widgets/controls",
       "_view_module_version": "1.5.0",
       "_view_name": "HTMLView",
       "description": "",
       "description_tooltip": null,
       "layout": "IPY_MODEL_438eb53a81bb47c683481679cc42e88a",
       "placeholder": "\u200b",
       "style": "IPY_MODEL_e7fcc57a48934d2799d8b1f44fd5baf2",
       "value": "100%"
      }
     },
     "add9f3aa8e0f406c894bd004e9fb881a": {
      "model_module": "@jupyter-widgets/base",
      "model_module_version": "1.2.0",
      "model_name": "LayoutModel",
      "state": {
       "_model_module": "@jupyter-widgets/base",
       "_model_module_version": "1.2.0",
       "_model_name": "LayoutModel",
       "_view_count": null,
       "_view_module": "@jupyter-widgets/base",
       "_view_module_version": "1.2.0",
       "_view_name": "LayoutView",
       "align_content": null,
       "align_items": null,
       "align_self": null,
       "border": null,
       "bottom": null,
       "display": null,
       "flex": null,
       "flex_flow": null,
       "grid_area": null,
       "grid_auto_columns": null,
       "grid_auto_flow": null,
       "grid_auto_rows": null,
       "grid_column": null,
       "grid_gap": null,
       "grid_row": null,
       "grid_template_areas": null,
       "grid_template_columns": null,
       "grid_template_rows": null,
       "height": null,
       "justify_content": null,
       "justify_items": null,
       "left": null,
       "margin": null,
       "max_height": null,
       "max_width": null,
       "min_height": null,
       "min_width": null,
       "object_fit": null,
       "object_position": null,
       "order": null,
       "overflow": null,
       "overflow_x": null,
       "overflow_y": null,
       "padding": null,
       "right": null,
       "top": null,
       "visibility": null,
       "width": null
      }
     },
     "afbdd417dd8f480b8cfe7490fb13f7ff": {
      "model_module": "@jupyter-widgets/base",
      "model_module_version": "1.2.0",
      "model_name": "LayoutModel",
      "state": {
       "_model_module": "@jupyter-widgets/base",
       "_model_module_version": "1.2.0",
       "_model_name": "LayoutModel",
       "_view_count": null,
       "_view_module": "@jupyter-widgets/base",
       "_view_module_version": "1.2.0",
       "_view_name": "LayoutView",
       "align_content": null,
       "align_items": null,
       "align_self": null,
       "border": null,
       "bottom": null,
       "display": null,
       "flex": null,
       "flex_flow": null,
       "grid_area": null,
       "grid_auto_columns": null,
       "grid_auto_flow": null,
       "grid_auto_rows": null,
       "grid_column": null,
       "grid_gap": null,
       "grid_row": null,
       "grid_template_areas": null,
       "grid_template_columns": null,
       "grid_template_rows": null,
       "height": null,
       "justify_content": null,
       "justify_items": null,
       "left": null,
       "margin": null,
       "max_height": null,
       "max_width": null,
       "min_height": null,
       "min_width": null,
       "object_fit": null,
       "object_position": null,
       "order": null,
       "overflow": null,
       "overflow_x": null,
       "overflow_y": null,
       "padding": null,
       "right": null,
       "top": null,
       "visibility": null,
       "width": null
      }
     },
     "b0eb26364adc45678d21c410a3db6cb2": {
      "model_module": "@jupyter-widgets/base",
      "model_module_version": "1.2.0",
      "model_name": "LayoutModel",
      "state": {
       "_model_module": "@jupyter-widgets/base",
       "_model_module_version": "1.2.0",
       "_model_name": "LayoutModel",
       "_view_count": null,
       "_view_module": "@jupyter-widgets/base",
       "_view_module_version": "1.2.0",
       "_view_name": "LayoutView",
       "align_content": null,
       "align_items": null,
       "align_self": null,
       "border": null,
       "bottom": null,
       "display": null,
       "flex": null,
       "flex_flow": null,
       "grid_area": null,
       "grid_auto_columns": null,
       "grid_auto_flow": null,
       "grid_auto_rows": null,
       "grid_column": null,
       "grid_gap": null,
       "grid_row": null,
       "grid_template_areas": null,
       "grid_template_columns": null,
       "grid_template_rows": null,
       "height": null,
       "justify_content": null,
       "justify_items": null,
       "left": null,
       "margin": null,
       "max_height": null,
       "max_width": null,
       "min_height": null,
       "min_width": null,
       "object_fit": null,
       "object_position": null,
       "order": null,
       "overflow": null,
       "overflow_x": null,
       "overflow_y": null,
       "padding": null,
       "right": null,
       "top": null,
       "visibility": null,
       "width": null
      }
     },
     "b2db84754d53404587f5f30b0224156a": {
      "model_module": "@jupyter-widgets/base",
      "model_module_version": "1.2.0",
      "model_name": "LayoutModel",
      "state": {
       "_model_module": "@jupyter-widgets/base",
       "_model_module_version": "1.2.0",
       "_model_name": "LayoutModel",
       "_view_count": null,
       "_view_module": "@jupyter-widgets/base",
       "_view_module_version": "1.2.0",
       "_view_name": "LayoutView",
       "align_content": null,
       "align_items": null,
       "align_self": null,
       "border": null,
       "bottom": null,
       "display": null,
       "flex": null,
       "flex_flow": null,
       "grid_area": null,
       "grid_auto_columns": null,
       "grid_auto_flow": null,
       "grid_auto_rows": null,
       "grid_column": null,
       "grid_gap": null,
       "grid_row": null,
       "grid_template_areas": null,
       "grid_template_columns": null,
       "grid_template_rows": null,
       "height": null,
       "justify_content": null,
       "justify_items": null,
       "left": null,
       "margin": null,
       "max_height": null,
       "max_width": null,
       "min_height": null,
       "min_width": null,
       "object_fit": null,
       "object_position": null,
       "order": null,
       "overflow": null,
       "overflow_x": null,
       "overflow_y": null,
       "padding": null,
       "right": null,
       "top": null,
       "visibility": null,
       "width": null
      }
     },
     "b38695c0a841490c959210d24b6a96e4": {
      "model_module": "@jupyter-widgets/base",
      "model_module_version": "1.2.0",
      "model_name": "LayoutModel",
      "state": {
       "_model_module": "@jupyter-widgets/base",
       "_model_module_version": "1.2.0",
       "_model_name": "LayoutModel",
       "_view_count": null,
       "_view_module": "@jupyter-widgets/base",
       "_view_module_version": "1.2.0",
       "_view_name": "LayoutView",
       "align_content": null,
       "align_items": null,
       "align_self": null,
       "border": null,
       "bottom": null,
       "display": null,
       "flex": null,
       "flex_flow": null,
       "grid_area": null,
       "grid_auto_columns": null,
       "grid_auto_flow": null,
       "grid_auto_rows": null,
       "grid_column": null,
       "grid_gap": null,
       "grid_row": null,
       "grid_template_areas": null,
       "grid_template_columns": null,
       "grid_template_rows": null,
       "height": null,
       "justify_content": null,
       "justify_items": null,
       "left": null,
       "margin": null,
       "max_height": null,
       "max_width": null,
       "min_height": null,
       "min_width": null,
       "object_fit": null,
       "object_position": null,
       "order": null,
       "overflow": null,
       "overflow_x": null,
       "overflow_y": null,
       "padding": null,
       "right": null,
       "top": null,
       "visibility": null,
       "width": null
      }
     },
     "b52fbb460740406cab31fedf6c5a58a8": {
      "model_module": "@jupyter-widgets/controls",
      "model_module_version": "1.5.0",
      "model_name": "ProgressStyleModel",
      "state": {
       "_model_module": "@jupyter-widgets/controls",
       "_model_module_version": "1.5.0",
       "_model_name": "ProgressStyleModel",
       "_view_count": null,
       "_view_module": "@jupyter-widgets/base",
       "_view_module_version": "1.2.0",
       "_view_name": "StyleView",
       "bar_color": null,
       "description_width": ""
      }
     },
     "bae6ca3fe38e4b0b80732a493f80ec7e": {
      "model_module": "@jupyter-widgets/base",
      "model_module_version": "1.2.0",
      "model_name": "LayoutModel",
      "state": {
       "_model_module": "@jupyter-widgets/base",
       "_model_module_version": "1.2.0",
       "_model_name": "LayoutModel",
       "_view_count": null,
       "_view_module": "@jupyter-widgets/base",
       "_view_module_version": "1.2.0",
       "_view_name": "LayoutView",
       "align_content": null,
       "align_items": null,
       "align_self": null,
       "border": null,
       "bottom": null,
       "display": null,
       "flex": null,
       "flex_flow": null,
       "grid_area": null,
       "grid_auto_columns": null,
       "grid_auto_flow": null,
       "grid_auto_rows": null,
       "grid_column": null,
       "grid_gap": null,
       "grid_row": null,
       "grid_template_areas": null,
       "grid_template_columns": null,
       "grid_template_rows": null,
       "height": null,
       "justify_content": null,
       "justify_items": null,
       "left": null,
       "margin": null,
       "max_height": null,
       "max_width": null,
       "min_height": null,
       "min_width": null,
       "object_fit": null,
       "object_position": null,
       "order": null,
       "overflow": null,
       "overflow_x": null,
       "overflow_y": null,
       "padding": null,
       "right": null,
       "top": null,
       "visibility": null,
       "width": null
      }
     },
     "be95f084eedf498f9244afa04e651f6e": {
      "model_module": "@jupyter-widgets/controls",
      "model_module_version": "1.5.0",
      "model_name": "ProgressStyleModel",
      "state": {
       "_model_module": "@jupyter-widgets/controls",
       "_model_module_version": "1.5.0",
       "_model_name": "ProgressStyleModel",
       "_view_count": null,
       "_view_module": "@jupyter-widgets/base",
       "_view_module_version": "1.2.0",
       "_view_name": "StyleView",
       "bar_color": null,
       "description_width": ""
      }
     },
     "c113429c906b4d37932b3ed4f128afe8": {
      "model_module": "@jupyter-widgets/base",
      "model_module_version": "1.2.0",
      "model_name": "LayoutModel",
      "state": {
       "_model_module": "@jupyter-widgets/base",
       "_model_module_version": "1.2.0",
       "_model_name": "LayoutModel",
       "_view_count": null,
       "_view_module": "@jupyter-widgets/base",
       "_view_module_version": "1.2.0",
       "_view_name": "LayoutView",
       "align_content": null,
       "align_items": null,
       "align_self": null,
       "border": null,
       "bottom": null,
       "display": null,
       "flex": null,
       "flex_flow": null,
       "grid_area": null,
       "grid_auto_columns": null,
       "grid_auto_flow": null,
       "grid_auto_rows": null,
       "grid_column": null,
       "grid_gap": null,
       "grid_row": null,
       "grid_template_areas": null,
       "grid_template_columns": null,
       "grid_template_rows": null,
       "height": null,
       "justify_content": null,
       "justify_items": null,
       "left": null,
       "margin": null,
       "max_height": null,
       "max_width": null,
       "min_height": null,
       "min_width": null,
       "object_fit": null,
       "object_position": null,
       "order": null,
       "overflow": null,
       "overflow_x": null,
       "overflow_y": null,
       "padding": null,
       "right": null,
       "top": null,
       "visibility": null,
       "width": null
      }
     },
     "c1260d367155424b9c78a1657ec2f6b2": {
      "model_module": "@jupyter-widgets/base",
      "model_module_version": "1.2.0",
      "model_name": "LayoutModel",
      "state": {
       "_model_module": "@jupyter-widgets/base",
       "_model_module_version": "1.2.0",
       "_model_name": "LayoutModel",
       "_view_count": null,
       "_view_module": "@jupyter-widgets/base",
       "_view_module_version": "1.2.0",
       "_view_name": "LayoutView",
       "align_content": null,
       "align_items": null,
       "align_self": null,
       "border": null,
       "bottom": null,
       "display": null,
       "flex": null,
       "flex_flow": null,
       "grid_area": null,
       "grid_auto_columns": null,
       "grid_auto_flow": null,
       "grid_auto_rows": null,
       "grid_column": null,
       "grid_gap": null,
       "grid_row": null,
       "grid_template_areas": null,
       "grid_template_columns": null,
       "grid_template_rows": null,
       "height": null,
       "justify_content": null,
       "justify_items": null,
       "left": null,
       "margin": null,
       "max_height": null,
       "max_width": null,
       "min_height": null,
       "min_width": null,
       "object_fit": null,
       "object_position": null,
       "order": null,
       "overflow": null,
       "overflow_x": null,
       "overflow_y": null,
       "padding": null,
       "right": null,
       "top": null,
       "visibility": null,
       "width": null
      }
     },
     "c3df35266f934970a9953fe677d5f974": {
      "model_module": "@jupyter-widgets/controls",
      "model_module_version": "1.5.0",
      "model_name": "FloatProgressModel",
      "state": {
       "_dom_classes": [],
       "_model_module": "@jupyter-widgets/controls",
       "_model_module_version": "1.5.0",
       "_model_name": "FloatProgressModel",
       "_view_count": null,
       "_view_module": "@jupyter-widgets/controls",
       "_view_module_version": "1.5.0",
       "_view_name": "ProgressView",
       "bar_style": "success",
       "description": "",
       "description_tooltip": null,
       "layout": "IPY_MODEL_40aeb369dfb540e9ab40b59ab0cc0a6b",
       "max": 1000.0,
       "min": 0.0,
       "orientation": "horizontal",
       "style": "IPY_MODEL_b52fbb460740406cab31fedf6c5a58a8",
       "value": 1000.0
      }
     },
     "c4d4f9a6fd974699a7e1e0d167a9a199": {
      "model_module": "@jupyter-widgets/base",
      "model_module_version": "1.2.0",
      "model_name": "LayoutModel",
      "state": {
       "_model_module": "@jupyter-widgets/base",
       "_model_module_version": "1.2.0",
       "_model_name": "LayoutModel",
       "_view_count": null,
       "_view_module": "@jupyter-widgets/base",
       "_view_module_version": "1.2.0",
       "_view_name": "LayoutView",
       "align_content": null,
       "align_items": null,
       "align_self": null,
       "border": null,
       "bottom": null,
       "display": null,
       "flex": null,
       "flex_flow": null,
       "grid_area": null,
       "grid_auto_columns": null,
       "grid_auto_flow": null,
       "grid_auto_rows": null,
       "grid_column": null,
       "grid_gap": null,
       "grid_row": null,
       "grid_template_areas": null,
       "grid_template_columns": null,
       "grid_template_rows": null,
       "height": null,
       "justify_content": null,
       "justify_items": null,
       "left": null,
       "margin": null,
       "max_height": null,
       "max_width": null,
       "min_height": null,
       "min_width": null,
       "object_fit": null,
       "object_position": null,
       "order": null,
       "overflow": null,
       "overflow_x": null,
       "overflow_y": null,
       "padding": null,
       "right": null,
       "top": null,
       "visibility": null,
       "width": null
      }
     },
     "c5c434e80a084ee7b49f1e8fd8efdb19": {
      "model_module": "@jupyter-widgets/base",
      "model_module_version": "1.2.0",
      "model_name": "LayoutModel",
      "state": {
       "_model_module": "@jupyter-widgets/base",
       "_model_module_version": "1.2.0",
       "_model_name": "LayoutModel",
       "_view_count": null,
       "_view_module": "@jupyter-widgets/base",
       "_view_module_version": "1.2.0",
       "_view_name": "LayoutView",
       "align_content": null,
       "align_items": null,
       "align_self": null,
       "border": null,
       "bottom": null,
       "display": null,
       "flex": null,
       "flex_flow": null,
       "grid_area": null,
       "grid_auto_columns": null,
       "grid_auto_flow": null,
       "grid_auto_rows": null,
       "grid_column": null,
       "grid_gap": null,
       "grid_row": null,
       "grid_template_areas": null,
       "grid_template_columns": null,
       "grid_template_rows": null,
       "height": null,
       "justify_content": null,
       "justify_items": null,
       "left": null,
       "margin": null,
       "max_height": null,
       "max_width": null,
       "min_height": null,
       "min_width": null,
       "object_fit": null,
       "object_position": null,
       "order": null,
       "overflow": null,
       "overflow_x": null,
       "overflow_y": null,
       "padding": null,
       "right": null,
       "top": null,
       "visibility": null,
       "width": null
      }
     },
     "c736a9473bb8434cb5dfc4894c394e86": {
      "model_module": "@jupyter-widgets/controls",
      "model_module_version": "1.5.0",
      "model_name": "DescriptionStyleModel",
      "state": {
       "_model_module": "@jupyter-widgets/controls",
       "_model_module_version": "1.5.0",
       "_model_name": "DescriptionStyleModel",
       "_view_count": null,
       "_view_module": "@jupyter-widgets/base",
       "_view_module_version": "1.2.0",
       "_view_name": "StyleView",
       "description_width": ""
      }
     },
     "c8ea21f0597d4ffab476dce70a108eb2": {
      "model_module": "@jupyter-widgets/controls",
      "model_module_version": "1.5.0",
      "model_name": "ProgressStyleModel",
      "state": {
       "_model_module": "@jupyter-widgets/controls",
       "_model_module_version": "1.5.0",
       "_model_name": "ProgressStyleModel",
       "_view_count": null,
       "_view_module": "@jupyter-widgets/base",
       "_view_module_version": "1.2.0",
       "_view_name": "StyleView",
       "bar_color": null,
       "description_width": ""
      }
     },
     "cd7c19835fab4e9c9ce7abbac1f05736": {
      "model_module": "@jupyter-widgets/base",
      "model_module_version": "1.2.0",
      "model_name": "LayoutModel",
      "state": {
       "_model_module": "@jupyter-widgets/base",
       "_model_module_version": "1.2.0",
       "_model_name": "LayoutModel",
       "_view_count": null,
       "_view_module": "@jupyter-widgets/base",
       "_view_module_version": "1.2.0",
       "_view_name": "LayoutView",
       "align_content": null,
       "align_items": null,
       "align_self": null,
       "border": null,
       "bottom": null,
       "display": null,
       "flex": null,
       "flex_flow": null,
       "grid_area": null,
       "grid_auto_columns": null,
       "grid_auto_flow": null,
       "grid_auto_rows": null,
       "grid_column": null,
       "grid_gap": null,
       "grid_row": null,
       "grid_template_areas": null,
       "grid_template_columns": null,
       "grid_template_rows": null,
       "height": null,
       "justify_content": null,
       "justify_items": null,
       "left": null,
       "margin": null,
       "max_height": null,
       "max_width": null,
       "min_height": null,
       "min_width": null,
       "object_fit": null,
       "object_position": null,
       "order": null,
       "overflow": null,
       "overflow_x": null,
       "overflow_y": null,
       "padding": null,
       "right": null,
       "top": null,
       "visibility": null,
       "width": null
      }
     },
     "d3369df8401e409c90e23d61f3c3bbcf": {
      "model_module": "@jupyter-widgets/controls",
      "model_module_version": "1.5.0",
      "model_name": "FloatProgressModel",
      "state": {
       "_dom_classes": [],
       "_model_module": "@jupyter-widgets/controls",
       "_model_module_version": "1.5.0",
       "_model_name": "FloatProgressModel",
       "_view_count": null,
       "_view_module": "@jupyter-widgets/controls",
       "_view_module_version": "1.5.0",
       "_view_name": "ProgressView",
       "bar_style": "success",
       "description": "",
       "description_tooltip": null,
       "layout": "IPY_MODEL_663a1ab85bc248afa981e68eec802c4f",
       "max": 1000.0,
       "min": 0.0,
       "orientation": "horizontal",
       "style": "IPY_MODEL_0983e23014574d5895de3fe9785df948",
       "value": 1000.0
      }
     },
     "d6457eddbcdd481397838a5603bdcaa6": {
      "model_module": "@jupyter-widgets/base",
      "model_module_version": "1.2.0",
      "model_name": "LayoutModel",
      "state": {
       "_model_module": "@jupyter-widgets/base",
       "_model_module_version": "1.2.0",
       "_model_name": "LayoutModel",
       "_view_count": null,
       "_view_module": "@jupyter-widgets/base",
       "_view_module_version": "1.2.0",
       "_view_name": "LayoutView",
       "align_content": null,
       "align_items": null,
       "align_self": null,
       "border": null,
       "bottom": null,
       "display": null,
       "flex": null,
       "flex_flow": null,
       "grid_area": null,
       "grid_auto_columns": null,
       "grid_auto_flow": null,
       "grid_auto_rows": null,
       "grid_column": null,
       "grid_gap": null,
       "grid_row": null,
       "grid_template_areas": null,
       "grid_template_columns": null,
       "grid_template_rows": null,
       "height": null,
       "justify_content": null,
       "justify_items": null,
       "left": null,
       "margin": null,
       "max_height": null,
       "max_width": null,
       "min_height": null,
       "min_width": null,
       "object_fit": null,
       "object_position": null,
       "order": null,
       "overflow": null,
       "overflow_x": null,
       "overflow_y": null,
       "padding": null,
       "right": null,
       "top": null,
       "visibility": null,
       "width": null
      }
     },
     "d7dff1940eb74128bad0df185e7d28ea": {
      "model_module": "@jupyter-widgets/base",
      "model_module_version": "1.2.0",
      "model_name": "LayoutModel",
      "state": {
       "_model_module": "@jupyter-widgets/base",
       "_model_module_version": "1.2.0",
       "_model_name": "LayoutModel",
       "_view_count": null,
       "_view_module": "@jupyter-widgets/base",
       "_view_module_version": "1.2.0",
       "_view_name": "LayoutView",
       "align_content": null,
       "align_items": null,
       "align_self": null,
       "border": null,
       "bottom": null,
       "display": null,
       "flex": null,
       "flex_flow": null,
       "grid_area": null,
       "grid_auto_columns": null,
       "grid_auto_flow": null,
       "grid_auto_rows": null,
       "grid_column": null,
       "grid_gap": null,
       "grid_row": null,
       "grid_template_areas": null,
       "grid_template_columns": null,
       "grid_template_rows": null,
       "height": null,
       "justify_content": null,
       "justify_items": null,
       "left": null,
       "margin": null,
       "max_height": null,
       "max_width": null,
       "min_height": null,
       "min_width": null,
       "object_fit": null,
       "object_position": null,
       "order": null,
       "overflow": null,
       "overflow_x": null,
       "overflow_y": null,
       "padding": null,
       "right": null,
       "top": null,
       "visibility": null,
       "width": null
      }
     },
     "db43c90aa67947938e3d175eace2bb5f": {
      "model_module": "@jupyter-widgets/controls",
      "model_module_version": "1.5.0",
      "model_name": "FloatProgressModel",
      "state": {
       "_dom_classes": [],
       "_model_module": "@jupyter-widgets/controls",
       "_model_module_version": "1.5.0",
       "_model_name": "FloatProgressModel",
       "_view_count": null,
       "_view_module": "@jupyter-widgets/controls",
       "_view_module_version": "1.5.0",
       "_view_name": "ProgressView",
       "bar_style": "success",
       "description": "",
       "description_tooltip": null,
       "layout": "IPY_MODEL_b38695c0a841490c959210d24b6a96e4",
       "max": 1000.0,
       "min": 0.0,
       "orientation": "horizontal",
       "style": "IPY_MODEL_a12f0c797d8e472b9d3db72317d216fb",
       "value": 1000.0
      }
     },
     "dc02361e037c4c04a9e191c6760ce9b1": {
      "model_module": "@jupyter-widgets/controls",
      "model_module_version": "1.5.0",
      "model_name": "HTMLModel",
      "state": {
       "_dom_classes": [],
       "_model_module": "@jupyter-widgets/controls",
       "_model_module_version": "1.5.0",
       "_model_name": "HTMLModel",
       "_view_count": null,
       "_view_module": "@jupyter-widgets/controls",
       "_view_module_version": "1.5.0",
       "_view_name": "HTMLView",
       "description": "",
       "description_tooltip": null,
       "layout": "IPY_MODEL_afbdd417dd8f480b8cfe7490fb13f7ff",
       "placeholder": "\u200b",
       "style": "IPY_MODEL_821db0aea9294762bf945558b9d120a1",
       "value": ""
      }
     },
     "dc2967d6ae054492a909beb841cbfcfd": {
      "model_module": "@jupyter-widgets/controls",
      "model_module_version": "1.5.0",
      "model_name": "DescriptionStyleModel",
      "state": {
       "_model_module": "@jupyter-widgets/controls",
       "_model_module_version": "1.5.0",
       "_model_name": "DescriptionStyleModel",
       "_view_count": null,
       "_view_module": "@jupyter-widgets/base",
       "_view_module_version": "1.2.0",
       "_view_name": "StyleView",
       "description_width": ""
      }
     },
     "dd547a6ab4e74b61b95278c938ae85ef": {
      "model_module": "@jupyter-widgets/controls",
      "model_module_version": "1.5.0",
      "model_name": "HTMLModel",
      "state": {
       "_dom_classes": [],
       "_model_module": "@jupyter-widgets/controls",
       "_model_module_version": "1.5.0",
       "_model_name": "HTMLModel",
       "_view_count": null,
       "_view_module": "@jupyter-widgets/controls",
       "_view_module_version": "1.5.0",
       "_view_name": "HTMLView",
       "description": "",
       "description_tooltip": null,
       "layout": "IPY_MODEL_a5883784c0bf461eadf67e410be6cf4a",
       "placeholder": "\u200b",
       "style": "IPY_MODEL_569197eec5f9489a8c97aacf5bf8afa6",
       "value": " 1000/1000 [00:01&lt;00:00, 816.65it/s]"
      }
     },
     "deb7265ec38d488084e694a488a7e839": {
      "model_module": "@jupyter-widgets/controls",
      "model_module_version": "1.5.0",
      "model_name": "FloatProgressModel",
      "state": {
       "_dom_classes": [],
       "_model_module": "@jupyter-widgets/controls",
       "_model_module_version": "1.5.0",
       "_model_name": "FloatProgressModel",
       "_view_count": null,
       "_view_module": "@jupyter-widgets/controls",
       "_view_module_version": "1.5.0",
       "_view_name": "ProgressView",
       "bar_style": "success",
       "description": "",
       "description_tooltip": null,
       "layout": "IPY_MODEL_eb072ff07841476d851e952423f5748d",
       "max": 1000.0,
       "min": 0.0,
       "orientation": "horizontal",
       "style": "IPY_MODEL_96459b7088f14258bb630f2bbc2b808f",
       "value": 1000.0
      }
     },
     "df48c0d01a4145da8163f27d3d3c3666": {
      "model_module": "@jupyter-widgets/controls",
      "model_module_version": "1.5.0",
      "model_name": "DescriptionStyleModel",
      "state": {
       "_model_module": "@jupyter-widgets/controls",
       "_model_module_version": "1.5.0",
       "_model_name": "DescriptionStyleModel",
       "_view_count": null,
       "_view_module": "@jupyter-widgets/base",
       "_view_module_version": "1.2.0",
       "_view_name": "StyleView",
       "description_width": ""
      }
     },
     "e061c6a00bd04b108586eeb39d9fc50c": {
      "model_module": "@jupyter-widgets/base",
      "model_module_version": "1.2.0",
      "model_name": "LayoutModel",
      "state": {
       "_model_module": "@jupyter-widgets/base",
       "_model_module_version": "1.2.0",
       "_model_name": "LayoutModel",
       "_view_count": null,
       "_view_module": "@jupyter-widgets/base",
       "_view_module_version": "1.2.0",
       "_view_name": "LayoutView",
       "align_content": null,
       "align_items": null,
       "align_self": null,
       "border": null,
       "bottom": null,
       "display": null,
       "flex": null,
       "flex_flow": null,
       "grid_area": null,
       "grid_auto_columns": null,
       "grid_auto_flow": null,
       "grid_auto_rows": null,
       "grid_column": null,
       "grid_gap": null,
       "grid_row": null,
       "grid_template_areas": null,
       "grid_template_columns": null,
       "grid_template_rows": null,
       "height": null,
       "justify_content": null,
       "justify_items": null,
       "left": null,
       "margin": null,
       "max_height": null,
       "max_width": null,
       "min_height": null,
       "min_width": null,
       "object_fit": null,
       "object_position": null,
       "order": null,
       "overflow": null,
       "overflow_x": null,
       "overflow_y": null,
       "padding": null,
       "right": null,
       "top": null,
       "visibility": null,
       "width": null
      }
     },
     "e1a9ff311df54221a3871b356b2a67fa": {
      "model_module": "@jupyter-widgets/controls",
      "model_module_version": "1.5.0",
      "model_name": "HBoxModel",
      "state": {
       "_dom_classes": [],
       "_model_module": "@jupyter-widgets/controls",
       "_model_module_version": "1.5.0",
       "_model_name": "HBoxModel",
       "_view_count": null,
       "_view_module": "@jupyter-widgets/controls",
       "_view_module_version": "1.5.0",
       "_view_name": "HBoxView",
       "box_style": "",
       "children": [
        "IPY_MODEL_9b9d50b673f846a3ace9e68091ada02d",
        "IPY_MODEL_c3df35266f934970a9953fe677d5f974",
        "IPY_MODEL_49c168573d114e3c9eafe52d2bfe07f6"
       ],
       "layout": "IPY_MODEL_2ebf81f80aed483f836d7e57878ae85d"
      }
     },
     "e76584f836d043f7a3fd5e6a93c9d0cd": {
      "model_module": "@jupyter-widgets/base",
      "model_module_version": "1.2.0",
      "model_name": "LayoutModel",
      "state": {
       "_model_module": "@jupyter-widgets/base",
       "_model_module_version": "1.2.0",
       "_model_name": "LayoutModel",
       "_view_count": null,
       "_view_module": "@jupyter-widgets/base",
       "_view_module_version": "1.2.0",
       "_view_name": "LayoutView",
       "align_content": null,
       "align_items": null,
       "align_self": null,
       "border": null,
       "bottom": null,
       "display": null,
       "flex": null,
       "flex_flow": null,
       "grid_area": null,
       "grid_auto_columns": null,
       "grid_auto_flow": null,
       "grid_auto_rows": null,
       "grid_column": null,
       "grid_gap": null,
       "grid_row": null,
       "grid_template_areas": null,
       "grid_template_columns": null,
       "grid_template_rows": null,
       "height": null,
       "justify_content": null,
       "justify_items": null,
       "left": null,
       "margin": null,
       "max_height": null,
       "max_width": null,
       "min_height": null,
       "min_width": null,
       "object_fit": null,
       "object_position": null,
       "order": null,
       "overflow": null,
       "overflow_x": null,
       "overflow_y": null,
       "padding": null,
       "right": null,
       "top": null,
       "visibility": null,
       "width": null
      }
     },
     "e7c70434e785473ea7cef4c92345e106": {
      "model_module": "@jupyter-widgets/controls",
      "model_module_version": "1.5.0",
      "model_name": "DescriptionStyleModel",
      "state": {
       "_model_module": "@jupyter-widgets/controls",
       "_model_module_version": "1.5.0",
       "_model_name": "DescriptionStyleModel",
       "_view_count": null,
       "_view_module": "@jupyter-widgets/base",
       "_view_module_version": "1.2.0",
       "_view_name": "StyleView",
       "description_width": ""
      }
     },
     "e7fcc57a48934d2799d8b1f44fd5baf2": {
      "model_module": "@jupyter-widgets/controls",
      "model_module_version": "1.5.0",
      "model_name": "DescriptionStyleModel",
      "state": {
       "_model_module": "@jupyter-widgets/controls",
       "_model_module_version": "1.5.0",
       "_model_name": "DescriptionStyleModel",
       "_view_count": null,
       "_view_module": "@jupyter-widgets/base",
       "_view_module_version": "1.2.0",
       "_view_name": "StyleView",
       "description_width": ""
      }
     },
     "e9bf042e6a70473f94addca1f1cd0551": {
      "model_module": "@jupyter-widgets/controls",
      "model_module_version": "1.5.0",
      "model_name": "HTMLModel",
      "state": {
       "_dom_classes": [],
       "_model_module": "@jupyter-widgets/controls",
       "_model_module_version": "1.5.0",
       "_model_name": "HTMLModel",
       "_view_count": null,
       "_view_module": "@jupyter-widgets/controls",
       "_view_module_version": "1.5.0",
       "_view_name": "HTMLView",
       "description": "",
       "description_tooltip": null,
       "layout": "IPY_MODEL_c1260d367155424b9c78a1657ec2f6b2",
       "placeholder": "\u200b",
       "style": "IPY_MODEL_dc2967d6ae054492a909beb841cbfcfd",
       "value": " 500/500 [00:00&lt;00:00, 14162.48it/s]"
      }
     },
     "eb072ff07841476d851e952423f5748d": {
      "model_module": "@jupyter-widgets/base",
      "model_module_version": "1.2.0",
      "model_name": "LayoutModel",
      "state": {
       "_model_module": "@jupyter-widgets/base",
       "_model_module_version": "1.2.0",
       "_model_name": "LayoutModel",
       "_view_count": null,
       "_view_module": "@jupyter-widgets/base",
       "_view_module_version": "1.2.0",
       "_view_name": "LayoutView",
       "align_content": null,
       "align_items": null,
       "align_self": null,
       "border": null,
       "bottom": null,
       "display": null,
       "flex": null,
       "flex_flow": null,
       "grid_area": null,
       "grid_auto_columns": null,
       "grid_auto_flow": null,
       "grid_auto_rows": null,
       "grid_column": null,
       "grid_gap": null,
       "grid_row": null,
       "grid_template_areas": null,
       "grid_template_columns": null,
       "grid_template_rows": null,
       "height": null,
       "justify_content": null,
       "justify_items": null,
       "left": null,
       "margin": null,
       "max_height": null,
       "max_width": null,
       "min_height": null,
       "min_width": null,
       "object_fit": null,
       "object_position": null,
       "order": null,
       "overflow": null,
       "overflow_x": null,
       "overflow_y": null,
       "padding": null,
       "right": null,
       "top": null,
       "visibility": null,
       "width": null
      }
     },
     "ef3fae332b404bb5b7fa9e9b9e8682fa": {
      "model_module": "@jupyter-widgets/controls",
      "model_module_version": "1.5.0",
      "model_name": "ProgressStyleModel",
      "state": {
       "_model_module": "@jupyter-widgets/controls",
       "_model_module_version": "1.5.0",
       "_model_name": "ProgressStyleModel",
       "_view_count": null,
       "_view_module": "@jupyter-widgets/base",
       "_view_module_version": "1.2.0",
       "_view_name": "StyleView",
       "bar_color": null,
       "description_width": ""
      }
     },
     "f24e41e6e94c438dadce52617b2409a7": {
      "model_module": "@jupyter-widgets/controls",
      "model_module_version": "1.5.0",
      "model_name": "HBoxModel",
      "state": {
       "_dom_classes": [],
       "_model_module": "@jupyter-widgets/controls",
       "_model_module_version": "1.5.0",
       "_model_name": "HBoxModel",
       "_view_count": null,
       "_view_module": "@jupyter-widgets/controls",
       "_view_module_version": "1.5.0",
       "_view_name": "HBoxView",
       "box_style": "",
       "children": [
        "IPY_MODEL_42176c60d5d646929f9c3c3d275ddb28",
        "IPY_MODEL_d3369df8401e409c90e23d61f3c3bbcf",
        "IPY_MODEL_8ae9292c0d4b490ebb7158c6392574a7"
       ],
       "layout": "IPY_MODEL_e061c6a00bd04b108586eeb39d9fc50c"
      }
     },
     "f38f8ac3e1324e0ebff8043934898ced": {
      "model_module": "@jupyter-widgets/base",
      "model_module_version": "1.2.0",
      "model_name": "LayoutModel",
      "state": {
       "_model_module": "@jupyter-widgets/base",
       "_model_module_version": "1.2.0",
       "_model_name": "LayoutModel",
       "_view_count": null,
       "_view_module": "@jupyter-widgets/base",
       "_view_module_version": "1.2.0",
       "_view_name": "LayoutView",
       "align_content": null,
       "align_items": null,
       "align_self": null,
       "border": null,
       "bottom": null,
       "display": null,
       "flex": null,
       "flex_flow": null,
       "grid_area": null,
       "grid_auto_columns": null,
       "grid_auto_flow": null,
       "grid_auto_rows": null,
       "grid_column": null,
       "grid_gap": null,
       "grid_row": null,
       "grid_template_areas": null,
       "grid_template_columns": null,
       "grid_template_rows": null,
       "height": null,
       "justify_content": null,
       "justify_items": null,
       "left": null,
       "margin": null,
       "max_height": null,
       "max_width": null,
       "min_height": null,
       "min_width": null,
       "object_fit": null,
       "object_position": null,
       "order": null,
       "overflow": null,
       "overflow_x": null,
       "overflow_y": null,
       "padding": null,
       "right": null,
       "top": null,
       "visibility": null,
       "width": null
      }
     },
     "f6a80abd2f8846c9a6a0a5fdf03be8f6": {
      "model_module": "@jupyter-widgets/base",
      "model_module_version": "1.2.0",
      "model_name": "LayoutModel",
      "state": {
       "_model_module": "@jupyter-widgets/base",
       "_model_module_version": "1.2.0",
       "_model_name": "LayoutModel",
       "_view_count": null,
       "_view_module": "@jupyter-widgets/base",
       "_view_module_version": "1.2.0",
       "_view_name": "LayoutView",
       "align_content": null,
       "align_items": null,
       "align_self": null,
       "border": null,
       "bottom": null,
       "display": null,
       "flex": null,
       "flex_flow": null,
       "grid_area": null,
       "grid_auto_columns": null,
       "grid_auto_flow": null,
       "grid_auto_rows": null,
       "grid_column": null,
       "grid_gap": null,
       "grid_row": null,
       "grid_template_areas": null,
       "grid_template_columns": null,
       "grid_template_rows": null,
       "height": null,
       "justify_content": null,
       "justify_items": null,
       "left": null,
       "margin": null,
       "max_height": null,
       "max_width": null,
       "min_height": null,
       "min_width": null,
       "object_fit": null,
       "object_position": null,
       "order": null,
       "overflow": null,
       "overflow_x": null,
       "overflow_y": null,
       "padding": null,
       "right": null,
       "top": null,
       "visibility": null,
       "width": null
      }
     },
     "f9c50ec09d1a4508b0087b8f12cdef28": {
      "model_module": "@jupyter-widgets/controls",
      "model_module_version": "1.5.0",
      "model_name": "HTMLModel",
      "state": {
       "_dom_classes": [],
       "_model_module": "@jupyter-widgets/controls",
       "_model_module_version": "1.5.0",
       "_model_name": "HTMLModel",
       "_view_count": null,
       "_view_module": "@jupyter-widgets/controls",
       "_view_module_version": "1.5.0",
       "_view_name": "HTMLView",
       "description": "",
       "description_tooltip": null,
       "layout": "IPY_MODEL_3d5f30da846343c29f591e959fc629ab",
       "placeholder": "\u200b",
       "style": "IPY_MODEL_e7c70434e785473ea7cef4c92345e106",
       "value": " 1000/1000 [00:00&lt;00:00, 10251.86it/s]"
      }
     },
     "f9faf3b5a0ad43f4abddb6371fc54762": {
      "model_module": "@jupyter-widgets/controls",
      "model_module_version": "1.5.0",
      "model_name": "ProgressStyleModel",
      "state": {
       "_model_module": "@jupyter-widgets/controls",
       "_model_module_version": "1.5.0",
       "_model_name": "ProgressStyleModel",
       "_view_count": null,
       "_view_module": "@jupyter-widgets/base",
       "_view_module_version": "1.2.0",
       "_view_name": "StyleView",
       "bar_color": null,
       "description_width": ""
      }
     },
     "fb60fe58293648db818ba205ffdbde99": {
      "model_module": "@jupyter-widgets/base",
      "model_module_version": "1.2.0",
      "model_name": "LayoutModel",
      "state": {
       "_model_module": "@jupyter-widgets/base",
       "_model_module_version": "1.2.0",
       "_model_name": "LayoutModel",
       "_view_count": null,
       "_view_module": "@jupyter-widgets/base",
       "_view_module_version": "1.2.0",
       "_view_name": "LayoutView",
       "align_content": null,
       "align_items": null,
       "align_self": null,
       "border": null,
       "bottom": null,
       "display": null,
       "flex": null,
       "flex_flow": null,
       "grid_area": null,
       "grid_auto_columns": null,
       "grid_auto_flow": null,
       "grid_auto_rows": null,
       "grid_column": null,
       "grid_gap": null,
       "grid_row": null,
       "grid_template_areas": null,
       "grid_template_columns": null,
       "grid_template_rows": null,
       "height": null,
       "justify_content": null,
       "justify_items": null,
       "left": null,
       "margin": null,
       "max_height": null,
       "max_width": null,
       "min_height": null,
       "min_width": null,
       "object_fit": null,
       "object_position": null,
       "order": null,
       "overflow": null,
       "overflow_x": null,
       "overflow_y": null,
       "padding": null,
       "right": null,
       "top": null,
       "visibility": null,
       "width": null
      }
     },
     "fd2583f35c1a477ca39b7c046bdf4e8a": {
      "model_module": "@jupyter-widgets/controls",
      "model_module_version": "1.5.0",
      "model_name": "HTMLModel",
      "state": {
       "_dom_classes": [],
       "_model_module": "@jupyter-widgets/controls",
       "_model_module_version": "1.5.0",
       "_model_name": "HTMLModel",
       "_view_count": null,
       "_view_module": "@jupyter-widgets/controls",
       "_view_module_version": "1.5.0",
       "_view_name": "HTMLView",
       "description": "",
       "description_tooltip": null,
       "layout": "IPY_MODEL_6106ffc5d6594958b455d1f26eb1a631",
       "placeholder": "\u200b",
       "style": "IPY_MODEL_4d605bdf75094c9aa94e11123708744e",
       "value": "627it [00:18, 33.80it/s]"
      }
     },
     "fddd27e310364fea8e5f2173e9d94a00": {
      "model_module": "@jupyter-widgets/controls",
      "model_module_version": "1.5.0",
      "model_name": "HTMLModel",
      "state": {
       "_dom_classes": [],
       "_model_module": "@jupyter-widgets/controls",
       "_model_module_version": "1.5.0",
       "_model_name": "HTMLModel",
       "_view_count": null,
       "_view_module": "@jupyter-widgets/controls",
       "_view_module_version": "1.5.0",
       "_view_name": "HTMLView",
       "description": "",
       "description_tooltip": null,
       "layout": "IPY_MODEL_0a38095aefec47fdb34a87d8f77766fd",
       "placeholder": "\u200b",
       "style": "IPY_MODEL_df48c0d01a4145da8163f27d3d3c3666",
       "value": " 1000/1000 [00:01&lt;00:00, 773.02it/s]"
      }
     }
    },
    "version_major": 2,
    "version_minor": 0
   }
  }
 },
 "nbformat": 4,
 "nbformat_minor": 2
}